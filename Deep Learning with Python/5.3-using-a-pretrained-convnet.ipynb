{
 "cells": [
  {
   "cell_type": "code",
   "execution_count": 1,
   "metadata": {},
   "outputs": [
    {
     "name": "stderr",
     "output_type": "stream",
     "text": [
      "/home/sunxin/miniconda3/envs/qinhanmin-test/lib/python3.7/site-packages/tensorflow/python/framework/dtypes.py:526: FutureWarning: Passing (type, 1) or '1type' as a synonym of type is deprecated; in a future version of numpy, it will be understood as (type, (1,)) / '(1,)type'.\n",
      "  _np_qint8 = np.dtype([(\"qint8\", np.int8, 1)])\n",
      "/home/sunxin/miniconda3/envs/qinhanmin-test/lib/python3.7/site-packages/tensorflow/python/framework/dtypes.py:527: FutureWarning: Passing (type, 1) or '1type' as a synonym of type is deprecated; in a future version of numpy, it will be understood as (type, (1,)) / '(1,)type'.\n",
      "  _np_quint8 = np.dtype([(\"quint8\", np.uint8, 1)])\n",
      "/home/sunxin/miniconda3/envs/qinhanmin-test/lib/python3.7/site-packages/tensorflow/python/framework/dtypes.py:528: FutureWarning: Passing (type, 1) or '1type' as a synonym of type is deprecated; in a future version of numpy, it will be understood as (type, (1,)) / '(1,)type'.\n",
      "  _np_qint16 = np.dtype([(\"qint16\", np.int16, 1)])\n",
      "/home/sunxin/miniconda3/envs/qinhanmin-test/lib/python3.7/site-packages/tensorflow/python/framework/dtypes.py:529: FutureWarning: Passing (type, 1) or '1type' as a synonym of type is deprecated; in a future version of numpy, it will be understood as (type, (1,)) / '(1,)type'.\n",
      "  _np_quint16 = np.dtype([(\"quint16\", np.uint16, 1)])\n",
      "/home/sunxin/miniconda3/envs/qinhanmin-test/lib/python3.7/site-packages/tensorflow/python/framework/dtypes.py:530: FutureWarning: Passing (type, 1) or '1type' as a synonym of type is deprecated; in a future version of numpy, it will be understood as (type, (1,)) / '(1,)type'.\n",
      "  _np_qint32 = np.dtype([(\"qint32\", np.int32, 1)])\n",
      "/home/sunxin/miniconda3/envs/qinhanmin-test/lib/python3.7/site-packages/tensorflow/python/framework/dtypes.py:535: FutureWarning: Passing (type, 1) or '1type' as a synonym of type is deprecated; in a future version of numpy, it will be understood as (type, (1,)) / '(1,)type'.\n",
      "  np_resource = np.dtype([(\"resource\", np.ubyte, 1)])\n"
     ]
    },
    {
     "name": "stdout",
     "output_type": "stream",
     "text": [
      "1.13.2\n",
      "2.2.4\n"
     ]
    },
    {
     "name": "stderr",
     "output_type": "stream",
     "text": [
      "Using TensorFlow backend.\n"
     ]
    }
   ],
   "source": [
    "import os\n",
    "os.environ[\"CUDA_VISIBLE_DEVICES\"] = \"0\"\n",
    "import tensorflow as tf\n",
    "print(tf.__version__)\n",
    "import keras\n",
    "print(keras.__version__)"
   ]
  },
  {
   "cell_type": "code",
   "execution_count": 2,
   "metadata": {},
   "outputs": [],
   "source": [
    "import numpy as np\n",
    "from keras.applications import VGG16\n",
    "from keras.preprocessing.image import ImageDataGenerator\n",
    "from keras import models\n",
    "from keras import layers\n",
    "from keras import optimizers\n",
    "import matplotlib.pyplot as plt\n",
    "%matplotlib inline"
   ]
  },
  {
   "cell_type": "code",
   "execution_count": 3,
   "metadata": {},
   "outputs": [
    {
     "name": "stdout",
     "output_type": "stream",
     "text": [
      "WARNING:tensorflow:From /home/sunxin/miniconda3/envs/qinhanmin-test/lib/python3.7/site-packages/tensorflow/python/framework/op_def_library.py:263: colocate_with (from tensorflow.python.framework.ops) is deprecated and will be removed in a future version.\n",
      "Instructions for updating:\n",
      "Colocations handled automatically by placer.\n",
      "_________________________________________________________________\n",
      "Layer (type)                 Output Shape              Param #   \n",
      "=================================================================\n",
      "input_1 (InputLayer)         (None, 150, 150, 3)       0         \n",
      "_________________________________________________________________\n",
      "block1_conv1 (Conv2D)        (None, 150, 150, 64)      1792      \n",
      "_________________________________________________________________\n",
      "block1_conv2 (Conv2D)        (None, 150, 150, 64)      36928     \n",
      "_________________________________________________________________\n",
      "block1_pool (MaxPooling2D)   (None, 75, 75, 64)        0         \n",
      "_________________________________________________________________\n",
      "block2_conv1 (Conv2D)        (None, 75, 75, 128)       73856     \n",
      "_________________________________________________________________\n",
      "block2_conv2 (Conv2D)        (None, 75, 75, 128)       147584    \n",
      "_________________________________________________________________\n",
      "block2_pool (MaxPooling2D)   (None, 37, 37, 128)       0         \n",
      "_________________________________________________________________\n",
      "block3_conv1 (Conv2D)        (None, 37, 37, 256)       295168    \n",
      "_________________________________________________________________\n",
      "block3_conv2 (Conv2D)        (None, 37, 37, 256)       590080    \n",
      "_________________________________________________________________\n",
      "block3_conv3 (Conv2D)        (None, 37, 37, 256)       590080    \n",
      "_________________________________________________________________\n",
      "block3_pool (MaxPooling2D)   (None, 18, 18, 256)       0         \n",
      "_________________________________________________________________\n",
      "block4_conv1 (Conv2D)        (None, 18, 18, 512)       1180160   \n",
      "_________________________________________________________________\n",
      "block4_conv2 (Conv2D)        (None, 18, 18, 512)       2359808   \n",
      "_________________________________________________________________\n",
      "block4_conv3 (Conv2D)        (None, 18, 18, 512)       2359808   \n",
      "_________________________________________________________________\n",
      "block4_pool (MaxPooling2D)   (None, 9, 9, 512)         0         \n",
      "_________________________________________________________________\n",
      "block5_conv1 (Conv2D)        (None, 9, 9, 512)         2359808   \n",
      "_________________________________________________________________\n",
      "block5_conv2 (Conv2D)        (None, 9, 9, 512)         2359808   \n",
      "_________________________________________________________________\n",
      "block5_conv3 (Conv2D)        (None, 9, 9, 512)         2359808   \n",
      "_________________________________________________________________\n",
      "block5_pool (MaxPooling2D)   (None, 4, 4, 512)         0         \n",
      "=================================================================\n",
      "Total params: 14,714,688\n",
      "Trainable params: 14,714,688\n",
      "Non-trainable params: 0\n",
      "_________________________________________________________________\n"
     ]
    }
   ],
   "source": [
    "conv_base = VGG16(weights=\"imagenet\", include_top=False, input_shape=(150, 150, 3))\n",
    "conv_base.summary()"
   ]
  },
  {
   "cell_type": "code",
   "execution_count": 4,
   "metadata": {},
   "outputs": [
    {
     "name": "stdout",
     "output_type": "stream",
     "text": [
      "Found 2000 images belonging to 2 classes.\n",
      "Found 1000 images belonging to 2 classes.\n",
      "Found 1000 images belonging to 2 classes.\n"
     ]
    }
   ],
   "source": [
    "base_dir = '../cats_and_dogs_small'\n",
    "train_dir = os.path.join(base_dir, 'train')\n",
    "validation_dir = os.path.join(base_dir, 'validation')\n",
    "test_dir = os.path.join(base_dir, 'test')\n",
    "datagen = ImageDataGenerator(rescale=1 / 255)\n",
    "batch_size = 20\n",
    "\n",
    "def extract_features(directory, sample_count):\n",
    "    features = np.zeros(shape=(sample_count, 4, 4, 512))\n",
    "    labels = np.zeros(shape=(sample_count))\n",
    "    generator = datagen.flow_from_directory(\n",
    "        directory,\n",
    "        target_size=(150, 150),\n",
    "        batch_size=batch_size,\n",
    "        class_mode='binary')\n",
    "    i = 0\n",
    "    for inputs_batch, labels_batch in generator:\n",
    "        features_batch = conv_base.predict(inputs_batch)\n",
    "        features[i * batch_size : (i + 1) * batch_size] = features_batch\n",
    "        labels[i * batch_size : (i + 1) * batch_size] = labels_batch\n",
    "        i += 1\n",
    "        if i * batch_size >= sample_count:\n",
    "            break\n",
    "    return features, labels\n",
    "\n",
    "train_features, train_labels = extract_features(train_dir, 2000)\n",
    "validation_features, validation_labels = extract_features(validation_dir, 1000)\n",
    "test_features, test_labels = extract_features(test_dir, 1000)"
   ]
  },
  {
   "cell_type": "code",
   "execution_count": 5,
   "metadata": {},
   "outputs": [
    {
     "name": "stdout",
     "output_type": "stream",
     "text": [
      "WARNING:tensorflow:From /home/sunxin/miniconda3/envs/qinhanmin-test/lib/python3.7/site-packages/keras/backend/tensorflow_backend.py:3445: calling dropout (from tensorflow.python.ops.nn_ops) with keep_prob is deprecated and will be removed in a future version.\n",
      "Instructions for updating:\n",
      "Please use `rate` instead of `keep_prob`. Rate should be set to `rate = 1 - keep_prob`.\n",
      "WARNING:tensorflow:From /home/sunxin/miniconda3/envs/qinhanmin-test/lib/python3.7/site-packages/tensorflow/python/ops/math_ops.py:3066: to_int32 (from tensorflow.python.ops.math_ops) is deprecated and will be removed in a future version.\n",
      "Instructions for updating:\n",
      "Use tf.cast instead.\n",
      "Train on 2000 samples, validate on 1000 samples\n",
      "Epoch 1/30\n",
      "2000/2000 [==============================] - 1s 461us/step - loss: 0.6052 - acc: 0.6600 - val_loss: 0.4673 - val_acc: 0.8070\n",
      "Epoch 2/30\n",
      "2000/2000 [==============================] - 1s 275us/step - loss: 0.4400 - acc: 0.8005 - val_loss: 0.3689 - val_acc: 0.8580\n",
      "Epoch 3/30\n",
      "2000/2000 [==============================] - 1s 279us/step - loss: 0.3601 - acc: 0.8445 - val_loss: 0.3197 - val_acc: 0.8840\n",
      "Epoch 4/30\n",
      "2000/2000 [==============================] - 1s 274us/step - loss: 0.3184 - acc: 0.8720 - val_loss: 0.2967 - val_acc: 0.8880\n",
      "Epoch 5/30\n",
      "2000/2000 [==============================] - 1s 284us/step - loss: 0.2847 - acc: 0.8860 - val_loss: 0.2849 - val_acc: 0.8890\n",
      "Epoch 6/30\n",
      "2000/2000 [==============================] - 1s 284us/step - loss: 0.2677 - acc: 0.8955 - val_loss: 0.2694 - val_acc: 0.8990\n",
      "Epoch 7/30\n",
      "2000/2000 [==============================] - 1s 281us/step - loss: 0.2520 - acc: 0.9060 - val_loss: 0.2596 - val_acc: 0.8990\n",
      "Epoch 8/30\n",
      "2000/2000 [==============================] - 1s 279us/step - loss: 0.2355 - acc: 0.9080 - val_loss: 0.2534 - val_acc: 0.9020\n",
      "Epoch 9/30\n",
      "2000/2000 [==============================] - 1s 271us/step - loss: 0.2248 - acc: 0.9185 - val_loss: 0.2530 - val_acc: 0.9010\n",
      "Epoch 10/30\n",
      "2000/2000 [==============================] - 1s 253us/step - loss: 0.2157 - acc: 0.9190 - val_loss: 0.2560 - val_acc: 0.8920\n",
      "Epoch 11/30\n",
      "2000/2000 [==============================] - 1s 261us/step - loss: 0.1944 - acc: 0.9280 - val_loss: 0.2407 - val_acc: 0.9020\n",
      "Epoch 12/30\n",
      "2000/2000 [==============================] - 1s 279us/step - loss: 0.1854 - acc: 0.9330 - val_loss: 0.2416 - val_acc: 0.9030\n",
      "Epoch 13/30\n",
      "2000/2000 [==============================] - 1s 284us/step - loss: 0.1797 - acc: 0.9375 - val_loss: 0.2541 - val_acc: 0.8970\n",
      "Epoch 14/30\n",
      "2000/2000 [==============================] - 1s 282us/step - loss: 0.1650 - acc: 0.9395 - val_loss: 0.2380 - val_acc: 0.9030\n",
      "Epoch 15/30\n",
      "2000/2000 [==============================] - 1s 280us/step - loss: 0.1651 - acc: 0.9440 - val_loss: 0.2399 - val_acc: 0.9040\n",
      "Epoch 16/30\n",
      "2000/2000 [==============================] - 1s 275us/step - loss: 0.1554 - acc: 0.9490 - val_loss: 0.2322 - val_acc: 0.9040\n",
      "Epoch 17/30\n",
      "2000/2000 [==============================] - 1s 280us/step - loss: 0.1482 - acc: 0.9495 - val_loss: 0.2324 - val_acc: 0.9030\n",
      "Epoch 18/30\n",
      "2000/2000 [==============================] - 1s 285us/step - loss: 0.1349 - acc: 0.9560 - val_loss: 0.2336 - val_acc: 0.9030\n",
      "Epoch 19/30\n",
      "2000/2000 [==============================] - 1s 274us/step - loss: 0.1402 - acc: 0.9480 - val_loss: 0.2313 - val_acc: 0.9030\n",
      "Epoch 20/30\n",
      "2000/2000 [==============================] - 1s 281us/step - loss: 0.1297 - acc: 0.9585 - val_loss: 0.2369 - val_acc: 0.9040\n",
      "Epoch 21/30\n",
      "2000/2000 [==============================] - 1s 279us/step - loss: 0.1278 - acc: 0.9575 - val_loss: 0.2873 - val_acc: 0.8770\n",
      "Epoch 22/30\n",
      "2000/2000 [==============================] - 1s 287us/step - loss: 0.1201 - acc: 0.9600 - val_loss: 0.2322 - val_acc: 0.9030\n",
      "Epoch 23/30\n",
      "2000/2000 [==============================] - 1s 283us/step - loss: 0.1130 - acc: 0.9660 - val_loss: 0.2334 - val_acc: 0.9030\n",
      "Epoch 24/30\n",
      "2000/2000 [==============================] - 1s 276us/step - loss: 0.1138 - acc: 0.9620 - val_loss: 0.2328 - val_acc: 0.9040\n",
      "Epoch 25/30\n",
      "2000/2000 [==============================] - 1s 284us/step - loss: 0.1132 - acc: 0.9610 - val_loss: 0.2352 - val_acc: 0.9010\n",
      "Epoch 26/30\n",
      "2000/2000 [==============================] - 1s 280us/step - loss: 0.1033 - acc: 0.9690 - val_loss: 0.2343 - val_acc: 0.9020\n",
      "Epoch 27/30\n",
      "2000/2000 [==============================] - 1s 268us/step - loss: 0.0984 - acc: 0.9675 - val_loss: 0.2573 - val_acc: 0.8980\n",
      "Epoch 28/30\n",
      "2000/2000 [==============================] - 1s 259us/step - loss: 0.0940 - acc: 0.9690 - val_loss: 0.2415 - val_acc: 0.9010\n",
      "Epoch 29/30\n",
      "2000/2000 [==============================] - 1s 251us/step - loss: 0.0913 - acc: 0.9715 - val_loss: 0.2360 - val_acc: 0.9020\n",
      "Epoch 30/30\n",
      "2000/2000 [==============================] - 1s 284us/step - loss: 0.0890 - acc: 0.9720 - val_loss: 0.2525 - val_acc: 0.9030\n"
     ]
    }
   ],
   "source": [
    "train_features = np.reshape(train_features, (2000, 4 * 4 * 512))\n",
    "validation_features = np.reshape(validation_features, (1000, 4 * 4 * 512))\n",
    "test_features = np.reshape(test_features, (1000, 4 * 4 * 512))\n",
    "model = models.Sequential()\n",
    "model.add(layers.Dense(256, activation='relu', input_dim=4 * 4 * 512))\n",
    "model.add(layers.Dropout(0.5))\n",
    "model.add(layers.Dense(1, activation='sigmoid'))\n",
    "model.compile(optimizer=optimizers.RMSprop(lr=2e-5),\n",
    "              loss='binary_crossentropy',\n",
    "              metrics=['accuracy'])\n",
    "history = model.fit(train_features, train_labels,\n",
    "                    epochs=30,\n",
    "                    batch_size=20,\n",
    "                    validation_data=(validation_features, validation_labels))"
   ]
  },
  {
   "cell_type": "code",
   "execution_count": 6,
   "metadata": {},
   "outputs": [
    {
     "data": {
      "image/png": "[encoded data removed]",
      "text/plain": [
       "<Figure size 432x288 with 1 Axes>"
      ]
     },
     "metadata": {
      "needs_background": "light"
     },
     "output_type": "display_data"
    },
    {
     "data": {
      "image/png": "[encoded data removed]",
      "text/plain": [
       "<Figure size 432x288 with 1 Axes>"
      ]
     },
     "metadata": {
      "needs_background": "light"
     },
     "output_type": "display_data"
    }
   ],
   "source": [
    "acc = history.history['acc']\n",
    "val_acc = history.history['val_acc']\n",
    "loss = history.history['loss']\n",
    "val_loss = history.history['val_loss']\n",
    "epochs = range(len(acc))\n",
    "\n",
    "plt.figure()\n",
    "plt.plot(epochs, acc, 'bo', label='Training acc')\n",
    "plt.plot(epochs, val_acc, 'b', label='Validation acc')\n",
    "plt.title('Training and validation accuracy')\n",
    "plt.legend()\n",
    "plt.show()\n",
    "\n",
    "plt.figure()\n",
    "plt.plot(epochs, loss, 'bo', label='Training loss')\n",
    "plt.plot(epochs, val_loss, 'b', label='Validation loss')\n",
    "plt.title('Training and validation loss')\n",
    "plt.legend()\n",
    "plt.show()"
   ]
  },
  {
   "cell_type": "code",
   "execution_count": 7,
   "metadata": {},
   "outputs": [
    {
     "name": "stdout",
     "output_type": "stream",
     "text": [
      "_________________________________________________________________\n",
      "Layer (type)                 Output Shape              Param #   \n",
      "=================================================================\n",
      "vgg16 (Model)                (None, 4, 4, 512)         14714688  \n",
      "_________________________________________________________________\n",
      "flatten_1 (Flatten)          (None, 8192)              0         \n",
      "_________________________________________________________________\n",
      "dense_3 (Dense)              (None, 256)               2097408   \n",
      "_________________________________________________________________\n",
      "dense_4 (Dense)              (None, 1)                 257       \n",
      "=================================================================\n",
      "Total params: 16,812,353\n",
      "Trainable params: 16,812,353\n",
      "Non-trainable params: 0\n",
      "_________________________________________________________________\n"
     ]
    }
   ],
   "source": [
    "model = models.Sequential()\n",
    "model.add(conv_base)\n",
    "model.add(layers.Flatten())\n",
    "model.add(layers.Dense(256, activation='relu'))\n",
    "model.add(layers.Dense(1, activation='sigmoid'))\n",
    "model.summary()"
   ]
  },
  {
   "cell_type": "code",
   "execution_count": 8,
   "metadata": {},
   "outputs": [
    {
     "name": "stdout",
     "output_type": "stream",
     "text": [
      "This is the number of trainable weights before freezing the conv base: 30\n",
      "This is the number of trainable weights after freezing the conv base: 4\n"
     ]
    }
   ],
   "source": [
    "print('This is the number of trainable weights '\n",
    "      'before freezing the conv base:', len(model.trainable_weights))\n",
    "conv_base.trainable = False\n",
    "print('This is the number of trainable weights '\n",
    "      'after freezing the conv base:', len(model.trainable_weights))"
   ]
  },
  {
   "cell_type": "code",
   "execution_count": 9,
   "metadata": {},
   "outputs": [
    {
     "name": "stdout",
     "output_type": "stream",
     "text": [
      "Found 2000 images belonging to 2 classes.\n",
      "Found 1000 images belonging to 2 classes.\n",
      "Epoch 1/30\n",
      " - 13s - loss: 0.5922 - acc: 0.6895 - val_loss: 0.4476 - val_acc: 0.8360\n",
      "Epoch 2/30\n",
      " - 11s - loss: 0.4706 - acc: 0.7935 - val_loss: 0.3659 - val_acc: 0.8530\n",
      "Epoch 3/30\n",
      " - 11s - loss: 0.4295 - acc: 0.8105 - val_loss: 0.3562 - val_acc: 0.8550\n",
      "Epoch 4/30\n",
      " - 11s - loss: 0.4041 - acc: 0.8275 - val_loss: 0.3072 - val_acc: 0.8850\n",
      "Epoch 5/30\n",
      " - 11s - loss: 0.3788 - acc: 0.8345 - val_loss: 0.2927 - val_acc: 0.8830\n",
      "Epoch 6/30\n",
      " - 11s - loss: 0.3610 - acc: 0.8485 - val_loss: 0.2814 - val_acc: 0.8910\n",
      "Epoch 7/30\n",
      " - 11s - loss: 0.3371 - acc: 0.8645 - val_loss: 0.2867 - val_acc: 0.8870\n",
      "Epoch 8/30\n",
      " - 11s - loss: 0.3493 - acc: 0.8520 - val_loss: 0.2670 - val_acc: 0.8960\n",
      "Epoch 9/30\n",
      " - 11s - loss: 0.3430 - acc: 0.8490 - val_loss: 0.2601 - val_acc: 0.8990\n",
      "Epoch 10/30\n",
      " - 11s - loss: 0.3374 - acc: 0.8540 - val_loss: 0.2611 - val_acc: 0.8980\n",
      "Epoch 11/30\n",
      " - 11s - loss: 0.3202 - acc: 0.8645 - val_loss: 0.2610 - val_acc: 0.8920\n",
      "Epoch 12/30\n",
      " - 11s - loss: 0.3223 - acc: 0.8600 - val_loss: 0.2535 - val_acc: 0.9030\n",
      "Epoch 13/30\n",
      " - 11s - loss: 0.3122 - acc: 0.8735 - val_loss: 0.2492 - val_acc: 0.9000\n",
      "Epoch 14/30\n",
      " - 11s - loss: 0.3160 - acc: 0.8530 - val_loss: 0.2494 - val_acc: 0.9030\n",
      "Epoch 15/30\n",
      " - 11s - loss: 0.3142 - acc: 0.8615 - val_loss: 0.2455 - val_acc: 0.9040\n",
      "Epoch 16/30\n",
      " - 11s - loss: 0.3228 - acc: 0.8605 - val_loss: 0.2465 - val_acc: 0.9020\n",
      "Epoch 17/30\n",
      " - 11s - loss: 0.2990 - acc: 0.8730 - val_loss: 0.2484 - val_acc: 0.8980\n",
      "Epoch 18/30\n",
      " - 11s - loss: 0.3049 - acc: 0.8580 - val_loss: 0.2479 - val_acc: 0.8950\n",
      "Epoch 19/30\n",
      " - 11s - loss: 0.2984 - acc: 0.8630 - val_loss: 0.2603 - val_acc: 0.8900\n",
      "Epoch 20/30\n",
      " - 11s - loss: 0.3101 - acc: 0.8620 - val_loss: 0.2439 - val_acc: 0.9020\n",
      "Epoch 21/30\n",
      " - 11s - loss: 0.3066 - acc: 0.8635 - val_loss: 0.2469 - val_acc: 0.9040\n",
      "Epoch 22/30\n",
      " - 11s - loss: 0.2764 - acc: 0.8835 - val_loss: 0.2474 - val_acc: 0.9020\n",
      "Epoch 23/30\n",
      " - 11s - loss: 0.3000 - acc: 0.8705 - val_loss: 0.2458 - val_acc: 0.9040\n",
      "Epoch 24/30\n",
      " - 11s - loss: 0.2888 - acc: 0.8720 - val_loss: 0.2537 - val_acc: 0.9030\n",
      "Epoch 25/30\n",
      " - 11s - loss: 0.2835 - acc: 0.8820 - val_loss: 0.2487 - val_acc: 0.8950\n",
      "Epoch 26/30\n",
      " - 11s - loss: 0.2917 - acc: 0.8700 - val_loss: 0.2475 - val_acc: 0.8990\n",
      "Epoch 27/30\n",
      " - 11s - loss: 0.2992 - acc: 0.8630 - val_loss: 0.2405 - val_acc: 0.9050\n",
      "Epoch 28/30\n",
      " - 11s - loss: 0.2746 - acc: 0.8855 - val_loss: 0.2415 - val_acc: 0.9080\n",
      "Epoch 29/30\n",
      " - 11s - loss: 0.2759 - acc: 0.8880 - val_loss: 0.2433 - val_acc: 0.9040\n",
      "Epoch 30/30\n",
      " - 11s - loss: 0.2804 - acc: 0.8800 - val_loss: 0.2401 - val_acc: 0.9090\n"
     ]
    }
   ],
   "source": [
    "train_datagen = ImageDataGenerator(\n",
    "      rescale=1 / 255,\n",
    "      rotation_range=40,\n",
    "      width_shift_range=0.2,\n",
    "      height_shift_range=0.2,\n",
    "      shear_range=0.2,\n",
    "      zoom_range=0.2,\n",
    "      horizontal_flip=True,\n",
    "      fill_mode='nearest')\n",
    "test_datagen = ImageDataGenerator(rescale=1 / 255)\n",
    "train_generator = train_datagen.flow_from_directory(\n",
    "        train_dir,\n",
    "        target_size=(150, 150),\n",
    "        batch_size=20,\n",
    "        class_mode='binary')\n",
    "validation_generator = test_datagen.flow_from_directory(\n",
    "        validation_dir,\n",
    "        target_size=(150, 150),\n",
    "        batch_size=20,\n",
    "        class_mode='binary')\n",
    "model.compile(optimizer=optimizers.RMSprop(lr=2e-5),\n",
    "              loss='binary_crossentropy',\n",
    "              metrics=['accuracy'])\n",
    "history = model.fit_generator(\n",
    "      train_generator,\n",
    "      steps_per_epoch=100,\n",
    "      epochs=30,\n",
    "      validation_data=validation_generator,\n",
    "      validation_steps=50,\n",
    "      verbose=2)"
   ]
  },
  {
   "cell_type": "code",
   "execution_count": 10,
   "metadata": {},
   "outputs": [],
   "source": [
    "model.save('cats_and_dogs_small_3.h5')"
   ]
  },
  {
   "cell_type": "code",
   "execution_count": 11,
   "metadata": {},
   "outputs": [
    {
     "data": {
      "image/png": "[encoded data removed]",
      "text/plain": [
       "<Figure size 432x288 with 1 Axes>"
      ]
     },
     "metadata": {
      "needs_background": "light"
     },
     "output_type": "display_data"
    },
    {
     "data": {
      "image/png": "[encoded data removed]",
      "text/plain": [
       "<Figure size 432x288 with 1 Axes>"
      ]
     },
     "metadata": {
      "needs_background": "light"
     },
     "output_type": "display_data"
    }
   ],
   "source": [
    "acc = history.history['acc']\n",
    "val_acc = history.history['val_acc']\n",
    "loss = history.history['loss']\n",
    "val_loss = history.history['val_loss']\n",
    "epochs = range(len(acc))\n",
    "\n",
    "plt.figure()\n",
    "plt.plot(epochs, acc, 'bo', label='Training acc')\n",
    "plt.plot(epochs, val_acc, 'b', label='Validation acc')\n",
    "plt.title('Training and validation accuracy')\n",
    "plt.legend()\n",
    "plt.show()\n",
    "\n",
    "plt.figure()\n",
    "plt.plot(epochs, loss, 'bo', label='Training loss')\n",
    "plt.plot(epochs, val_loss, 'b', label='Validation loss')\n",
    "plt.title('Training and validation loss')\n",
    "plt.legend()\n",
    "plt.show()"
   ]
  },
  {
   "cell_type": "markdown",
   "metadata": {},
   "source": [
    "### Fine-tuning"
   ]
  },
  {
   "cell_type": "code",
   "execution_count": 12,
   "metadata": {},
   "outputs": [
    {
     "name": "stdout",
     "output_type": "stream",
     "text": [
      "_________________________________________________________________\n",
      "Layer (type)                 Output Shape              Param #   \n",
      "=================================================================\n",
      "input_1 (InputLayer)         (None, 150, 150, 3)       0         \n",
      "_________________________________________________________________\n",
      "block1_conv1 (Conv2D)        (None, 150, 150, 64)      1792      \n",
      "_________________________________________________________________\n",
      "block1_conv2 (Conv2D)        (None, 150, 150, 64)      36928     \n",
      "_________________________________________________________________\n",
      "block1_pool (MaxPooling2D)   (None, 75, 75, 64)        0         \n",
      "_________________________________________________________________\n",
      "block2_conv1 (Conv2D)        (None, 75, 75, 128)       73856     \n",
      "_________________________________________________________________\n",
      "block2_conv2 (Conv2D)        (None, 75, 75, 128)       147584    \n",
      "_________________________________________________________________\n",
      "block2_pool (MaxPooling2D)   (None, 37, 37, 128)       0         \n",
      "_________________________________________________________________\n",
      "block3_conv1 (Conv2D)        (None, 37, 37, 256)       295168    \n",
      "_________________________________________________________________\n",
      "block3_conv2 (Conv2D)        (None, 37, 37, 256)       590080    \n",
      "_________________________________________________________________\n",
      "block3_conv3 (Conv2D)        (None, 37, 37, 256)       590080    \n",
      "_________________________________________________________________\n",
      "block3_pool (MaxPooling2D)   (None, 18, 18, 256)       0         \n",
      "_________________________________________________________________\n",
      "block4_conv1 (Conv2D)        (None, 18, 18, 512)       1180160   \n",
      "_________________________________________________________________\n",
      "block4_conv2 (Conv2D)        (None, 18, 18, 512)       2359808   \n",
      "_________________________________________________________________\n",
      "block4_conv3 (Conv2D)        (None, 18, 18, 512)       2359808   \n",
      "_________________________________________________________________\n",
      "block4_pool (MaxPooling2D)   (None, 9, 9, 512)         0         \n",
      "_________________________________________________________________\n",
      "block5_conv1 (Conv2D)        (None, 9, 9, 512)         2359808   \n",
      "_________________________________________________________________\n",
      "block5_conv2 (Conv2D)        (None, 9, 9, 512)         2359808   \n",
      "_________________________________________________________________\n",
      "block5_conv3 (Conv2D)        (None, 9, 9, 512)         2359808   \n",
      "_________________________________________________________________\n",
      "block5_pool (MaxPooling2D)   (None, 4, 4, 512)         0         \n",
      "=================================================================\n",
      "Total params: 14,714,688\n",
      "Trainable params: 0\n",
      "Non-trainable params: 14,714,688\n",
      "_________________________________________________________________\n"
     ]
    }
   ],
   "source": [
    "conv_base.summary()"
   ]
  },
  {
   "cell_type": "code",
   "execution_count": 13,
   "metadata": {},
   "outputs": [],
   "source": [
    "conv_base.trainable = True\n",
    "set_trainable = False\n",
    "for layer in conv_base.layers:\n",
    "    if layer.name == 'block5_conv1':\n",
    "        set_trainable = True\n",
    "    if set_trainable:\n",
    "        layer.trainable = True\n",
    "    else:\n",
    "        layer.trainable = False"
   ]
  },
  {
   "cell_type": "code",
   "execution_count": 14,
   "metadata": {
    "scrolled": false
   },
   "outputs": [
    {
     "name": "stdout",
     "output_type": "stream",
     "text": [
      "Epoch 1/100\n",
      "100/100 [==============================] - 13s 126ms/step - loss: 0.2899 - acc: 0.8715 - val_loss: 0.2092 - val_acc: 0.9170\n",
      "Epoch 2/100\n",
      "100/100 [==============================] - 11s 114ms/step - loss: 0.2687 - acc: 0.8895 - val_loss: 0.2379 - val_acc: 0.9030\n",
      "Epoch 3/100\n",
      "100/100 [==============================] - 11s 113ms/step - loss: 0.2361 - acc: 0.9015 - val_loss: 0.2079 - val_acc: 0.9220\n",
      "Epoch 4/100\n",
      "100/100 [==============================] - 11s 114ms/step - loss: 0.2215 - acc: 0.9065 - val_loss: 0.2095 - val_acc: 0.9210\n",
      "Epoch 5/100\n",
      "100/100 [==============================] - 11s 115ms/step - loss: 0.2134 - acc: 0.9155 - val_loss: 0.2212 - val_acc: 0.9160\n",
      "Epoch 6/100\n",
      "100/100 [==============================] - 11s 114ms/step - loss: 0.1945 - acc: 0.9200 - val_loss: 0.2005 - val_acc: 0.9270\n",
      "Epoch 7/100\n",
      "100/100 [==============================] - 11s 114ms/step - loss: 0.1754 - acc: 0.9280 - val_loss: 0.1813 - val_acc: 0.9280\n",
      "Epoch 8/100\n",
      "100/100 [==============================] - 11s 114ms/step - loss: 0.1839 - acc: 0.9170 - val_loss: 0.1886 - val_acc: 0.9280\n",
      "Epoch 9/100\n",
      "100/100 [==============================] - 11s 113ms/step - loss: 0.1573 - acc: 0.9295 - val_loss: 0.2087 - val_acc: 0.9260\n",
      "Epoch 10/100\n",
      "100/100 [==============================] - 11s 113ms/step - loss: 0.1464 - acc: 0.9375 - val_loss: 0.1787 - val_acc: 0.9290\n",
      "Epoch 11/100\n",
      "100/100 [==============================] - 11s 114ms/step - loss: 0.1329 - acc: 0.9495 - val_loss: 0.1991 - val_acc: 0.9210\n",
      "Epoch 12/100\n",
      "100/100 [==============================] - 11s 113ms/step - loss: 0.1359 - acc: 0.9455 - val_loss: 0.1813 - val_acc: 0.9360\n",
      "Epoch 13/100\n",
      "100/100 [==============================] - 11s 114ms/step - loss: 0.1468 - acc: 0.9365 - val_loss: 0.1765 - val_acc: 0.9310\n",
      "Epoch 14/100\n",
      "100/100 [==============================] - 11s 114ms/step - loss: 0.1240 - acc: 0.9515 - val_loss: 0.1733 - val_acc: 0.9370\n",
      "Epoch 15/100\n",
      "100/100 [==============================] - 11s 114ms/step - loss: 0.1142 - acc: 0.9575 - val_loss: 0.2369 - val_acc: 0.9210\n",
      "Epoch 16/100\n",
      "100/100 [==============================] - 11s 113ms/step - loss: 0.1117 - acc: 0.9575 - val_loss: 0.1852 - val_acc: 0.9310\n",
      "Epoch 17/100\n",
      "100/100 [==============================] - 11s 115ms/step - loss: 0.1092 - acc: 0.9640 - val_loss: 0.2367 - val_acc: 0.9240\n",
      "Epoch 18/100\n",
      "100/100 [==============================] - 11s 114ms/step - loss: 0.1130 - acc: 0.9520 - val_loss: 0.2653 - val_acc: 0.9140\n",
      "Epoch 19/100\n",
      "100/100 [==============================] - 12s 115ms/step - loss: 0.0959 - acc: 0.9665 - val_loss: 0.1955 - val_acc: 0.9310\n",
      "Epoch 20/100\n",
      "100/100 [==============================] - 11s 113ms/step - loss: 0.1026 - acc: 0.9630 - val_loss: 0.1800 - val_acc: 0.9340\n",
      "Epoch 21/100\n",
      "100/100 [==============================] - 11s 115ms/step - loss: 0.1062 - acc: 0.9595 - val_loss: 0.1976 - val_acc: 0.9300\n",
      "Epoch 22/100\n",
      "100/100 [==============================] - 11s 113ms/step - loss: 0.0845 - acc: 0.9695 - val_loss: 0.1670 - val_acc: 0.9370\n",
      "Epoch 23/100\n",
      "100/100 [==============================] - 11s 114ms/step - loss: 0.0911 - acc: 0.9670 - val_loss: 0.2686 - val_acc: 0.9210\n",
      "Epoch 24/100\n",
      "100/100 [==============================] - 11s 114ms/step - loss: 0.0713 - acc: 0.9715 - val_loss: 0.3190 - val_acc: 0.9110\n",
      "Epoch 25/100\n",
      "100/100 [==============================] - 11s 114ms/step - loss: 0.0845 - acc: 0.9695 - val_loss: 0.1908 - val_acc: 0.9300\n",
      "Epoch 26/100\n",
      "100/100 [==============================] - 11s 114ms/step - loss: 0.0686 - acc: 0.9700 - val_loss: 0.1766 - val_acc: 0.9420\n",
      "Epoch 27/100\n",
      "100/100 [==============================] - 11s 114ms/step - loss: 0.0701 - acc: 0.9740 - val_loss: 0.2209 - val_acc: 0.9270\n",
      "Epoch 28/100\n",
      "100/100 [==============================] - 11s 113ms/step - loss: 0.0664 - acc: 0.9765 - val_loss: 0.3140 - val_acc: 0.9160\n",
      "Epoch 29/100\n",
      "100/100 [==============================] - 11s 113ms/step - loss: 0.0774 - acc: 0.9750 - val_loss: 0.1750 - val_acc: 0.9390\n",
      "Epoch 30/100\n",
      "100/100 [==============================] - 11s 114ms/step - loss: 0.0633 - acc: 0.9765 - val_loss: 0.1913 - val_acc: 0.9350\n",
      "Epoch 31/100\n",
      "100/100 [==============================] - 11s 115ms/step - loss: 0.0745 - acc: 0.9700 - val_loss: 0.2084 - val_acc: 0.9310\n",
      "Epoch 32/100\n",
      "100/100 [==============================] - 11s 114ms/step - loss: 0.0647 - acc: 0.9785 - val_loss: 0.1903 - val_acc: 0.9420\n",
      "Epoch 33/100\n",
      "100/100 [==============================] - 11s 113ms/step - loss: 0.0646 - acc: 0.9730 - val_loss: 0.2267 - val_acc: 0.9280\n",
      "Epoch 34/100\n",
      "100/100 [==============================] - 11s 114ms/step - loss: 0.0689 - acc: 0.9765 - val_loss: 0.1782 - val_acc: 0.9420\n",
      "Epoch 35/100\n",
      "100/100 [==============================] - 11s 115ms/step - loss: 0.0598 - acc: 0.9815 - val_loss: 0.1852 - val_acc: 0.9380\n",
      "Epoch 36/100\n",
      "100/100 [==============================] - 11s 114ms/step - loss: 0.0676 - acc: 0.9740 - val_loss: 0.2350 - val_acc: 0.9280\n",
      "Epoch 37/100\n",
      "100/100 [==============================] - 11s 114ms/step - loss: 0.0551 - acc: 0.9750 - val_loss: 0.1958 - val_acc: 0.9380\n",
      "Epoch 38/100\n",
      "100/100 [==============================] - 11s 114ms/step - loss: 0.0543 - acc: 0.9770 - val_loss: 0.2321 - val_acc: 0.9240\n",
      "Epoch 39/100\n",
      "100/100 [==============================] - 11s 114ms/step - loss: 0.0554 - acc: 0.9770 - val_loss: 0.3420 - val_acc: 0.9110\n",
      "Epoch 40/100\n",
      "100/100 [==============================] - 11s 114ms/step - loss: 0.0375 - acc: 0.9860 - val_loss: 0.2248 - val_acc: 0.9340\n",
      "Epoch 41/100\n",
      "100/100 [==============================] - 11s 114ms/step - loss: 0.0445 - acc: 0.9830 - val_loss: 0.3462 - val_acc: 0.9160\n",
      "Epoch 42/100\n",
      "100/100 [==============================] - 11s 113ms/step - loss: 0.0411 - acc: 0.9835 - val_loss: 0.2010 - val_acc: 0.9440\n",
      "Epoch 43/100\n",
      "100/100 [==============================] - 11s 113ms/step - loss: 0.0435 - acc: 0.9845 - val_loss: 0.2100 - val_acc: 0.9380\n",
      "Epoch 44/100\n",
      "100/100 [==============================] - 11s 114ms/step - loss: 0.0445 - acc: 0.9840 - val_loss: 0.2579 - val_acc: 0.9270\n",
      "Epoch 45/100\n",
      "100/100 [==============================] - 11s 114ms/step - loss: 0.0404 - acc: 0.9850 - val_loss: 0.2651 - val_acc: 0.9260\n",
      "Epoch 46/100\n",
      "100/100 [==============================] - 11s 114ms/step - loss: 0.0352 - acc: 0.9855 - val_loss: 0.2079 - val_acc: 0.9380\n",
      "Epoch 47/100\n",
      "100/100 [==============================] - 11s 114ms/step - loss: 0.0406 - acc: 0.9830 - val_loss: 0.2204 - val_acc: 0.9400\n",
      "Epoch 48/100\n",
      "100/100 [==============================] - 11s 114ms/step - loss: 0.0451 - acc: 0.9830 - val_loss: 0.2133 - val_acc: 0.9360\n",
      "Epoch 49/100\n",
      "100/100 [==============================] - 11s 114ms/step - loss: 0.0374 - acc: 0.9865 - val_loss: 0.2090 - val_acc: 0.9360\n",
      "Epoch 50/100\n",
      "100/100 [==============================] - 11s 113ms/step - loss: 0.0464 - acc: 0.9825 - val_loss: 0.2250 - val_acc: 0.9380\n",
      "Epoch 51/100\n",
      "100/100 [==============================] - 11s 115ms/step - loss: 0.0454 - acc: 0.9845 - val_loss: 0.2390 - val_acc: 0.9330\n",
      "Epoch 52/100\n",
      "100/100 [==============================] - 11s 113ms/step - loss: 0.0312 - acc: 0.9880 - val_loss: 0.2271 - val_acc: 0.9360\n",
      "Epoch 53/100\n",
      "100/100 [==============================] - 11s 114ms/step - loss: 0.0360 - acc: 0.9875 - val_loss: 0.3008 - val_acc: 0.9310\n",
      "Epoch 54/100\n",
      "100/100 [==============================] - 11s 113ms/step - loss: 0.0361 - acc: 0.9855 - val_loss: 0.3610 - val_acc: 0.9180\n",
      "Epoch 55/100\n",
      "100/100 [==============================] - 11s 115ms/step - loss: 0.0328 - acc: 0.9890 - val_loss: 0.2379 - val_acc: 0.9370\n",
      "Epoch 56/100\n",
      "100/100 [==============================] - 11s 115ms/step - loss: 0.0371 - acc: 0.9895 - val_loss: 0.3617 - val_acc: 0.9230\n",
      "Epoch 57/100\n",
      "100/100 [==============================] - 11s 113ms/step - loss: 0.0341 - acc: 0.9870 - val_loss: 0.2473 - val_acc: 0.9350\n",
      "Epoch 58/100\n",
      "100/100 [==============================] - 11s 114ms/step - loss: 0.0392 - acc: 0.9845 - val_loss: 0.2531 - val_acc: 0.9310\n",
      "Epoch 59/100\n",
      "100/100 [==============================] - 11s 113ms/step - loss: 0.0427 - acc: 0.9850 - val_loss: 0.2440 - val_acc: 0.9400\n",
      "Epoch 60/100\n",
      "100/100 [==============================] - 11s 114ms/step - loss: 0.0276 - acc: 0.9895 - val_loss: 0.3071 - val_acc: 0.9290\n"
     ]
    },
    {
     "name": "stdout",
     "output_type": "stream",
     "text": [
      "Epoch 61/100\n",
      "100/100 [==============================] - 11s 115ms/step - loss: 0.0297 - acc: 0.9925 - val_loss: 0.3296 - val_acc: 0.9260\n",
      "Epoch 62/100\n",
      "100/100 [==============================] - 11s 113ms/step - loss: 0.0396 - acc: 0.9875 - val_loss: 0.2114 - val_acc: 0.9450\n",
      "Epoch 63/100\n",
      "100/100 [==============================] - 11s 113ms/step - loss: 0.0294 - acc: 0.9885 - val_loss: 0.3415 - val_acc: 0.9270\n",
      "Epoch 64/100\n",
      "100/100 [==============================] - 11s 113ms/step - loss: 0.0301 - acc: 0.9905 - val_loss: 0.2356 - val_acc: 0.9400\n",
      "Epoch 65/100\n",
      "100/100 [==============================] - 11s 114ms/step - loss: 0.0281 - acc: 0.9905 - val_loss: 0.3338 - val_acc: 0.9260\n",
      "Epoch 66/100\n",
      "100/100 [==============================] - 11s 114ms/step - loss: 0.0305 - acc: 0.9875 - val_loss: 0.2425 - val_acc: 0.9330\n",
      "Epoch 67/100\n",
      "100/100 [==============================] - 11s 113ms/step - loss: 0.0247 - acc: 0.9920 - val_loss: 0.2610 - val_acc: 0.9320\n",
      "Epoch 68/100\n",
      "100/100 [==============================] - 12s 115ms/step - loss: 0.0233 - acc: 0.9910 - val_loss: 0.3409 - val_acc: 0.9250\n",
      "Epoch 69/100\n",
      "100/100 [==============================] - 11s 114ms/step - loss: 0.0230 - acc: 0.9945 - val_loss: 0.2936 - val_acc: 0.9380\n",
      "Epoch 70/100\n",
      "100/100 [==============================] - 11s 114ms/step - loss: 0.0296 - acc: 0.9875 - val_loss: 0.3373 - val_acc: 0.9250\n",
      "Epoch 71/100\n",
      "100/100 [==============================] - 11s 114ms/step - loss: 0.0266 - acc: 0.9885 - val_loss: 0.2279 - val_acc: 0.9410\n",
      "Epoch 72/100\n",
      "100/100 [==============================] - 11s 114ms/step - loss: 0.0230 - acc: 0.9895 - val_loss: 0.2582 - val_acc: 0.9410\n",
      "Epoch 73/100\n",
      "100/100 [==============================] - 12s 115ms/step - loss: 0.0227 - acc: 0.9920 - val_loss: 0.2761 - val_acc: 0.9370\n",
      "Epoch 74/100\n",
      "100/100 [==============================] - 12s 115ms/step - loss: 0.0266 - acc: 0.9900 - val_loss: 0.4315 - val_acc: 0.9150\n",
      "Epoch 75/100\n",
      "100/100 [==============================] - 11s 113ms/step - loss: 0.0316 - acc: 0.9870 - val_loss: 0.2605 - val_acc: 0.9350\n",
      "Epoch 76/100\n",
      "100/100 [==============================] - 11s 114ms/step - loss: 0.0209 - acc: 0.9915 - val_loss: 0.2415 - val_acc: 0.9380\n",
      "Epoch 77/100\n",
      "100/100 [==============================] - 11s 114ms/step - loss: 0.0196 - acc: 0.9935 - val_loss: 0.2911 - val_acc: 0.9340\n",
      "Epoch 78/100\n",
      "100/100 [==============================] - 11s 114ms/step - loss: 0.0266 - acc: 0.9925 - val_loss: 0.2189 - val_acc: 0.9450\n",
      "Epoch 79/100\n",
      "100/100 [==============================] - 11s 112ms/step - loss: 0.0253 - acc: 0.9925 - val_loss: 0.3463 - val_acc: 0.9300\n",
      "Epoch 80/100\n",
      "100/100 [==============================] - 11s 115ms/step - loss: 0.0181 - acc: 0.9920 - val_loss: 0.2549 - val_acc: 0.9400\n",
      "Epoch 81/100\n",
      "100/100 [==============================] - 11s 114ms/step - loss: 0.0218 - acc: 0.9910 - val_loss: 0.2413 - val_acc: 0.9440\n",
      "Epoch 82/100\n",
      "100/100 [==============================] - 11s 114ms/step - loss: 0.0376 - acc: 0.9875 - val_loss: 0.2961 - val_acc: 0.9360\n",
      "Epoch 83/100\n",
      "100/100 [==============================] - 11s 114ms/step - loss: 0.0248 - acc: 0.9905 - val_loss: 0.2935 - val_acc: 0.9340\n",
      "Epoch 84/100\n",
      "100/100 [==============================] - 11s 114ms/step - loss: 0.0205 - acc: 0.9930 - val_loss: 0.3098 - val_acc: 0.9330\n",
      "Epoch 85/100\n",
      "100/100 [==============================] - 11s 114ms/step - loss: 0.0195 - acc: 0.9930 - val_loss: 0.2804 - val_acc: 0.9350\n",
      "Epoch 86/100\n",
      "100/100 [==============================] - 11s 114ms/step - loss: 0.0217 - acc: 0.9920 - val_loss: 0.2307 - val_acc: 0.9430\n",
      "Epoch 87/100\n",
      "100/100 [==============================] - 11s 114ms/step - loss: 0.0274 - acc: 0.9905 - val_loss: 0.2916 - val_acc: 0.9400\n",
      "Epoch 88/100\n",
      "100/100 [==============================] - 11s 114ms/step - loss: 0.0218 - acc: 0.9910 - val_loss: 0.2501 - val_acc: 0.9460\n",
      "Epoch 89/100\n",
      "100/100 [==============================] - 11s 113ms/step - loss: 0.0212 - acc: 0.9925 - val_loss: 0.2437 - val_acc: 0.9440\n",
      "Epoch 90/100\n",
      "100/100 [==============================] - 11s 114ms/step - loss: 0.0192 - acc: 0.9930 - val_loss: 0.2980 - val_acc: 0.9360\n",
      "Epoch 91/100\n",
      "100/100 [==============================] - 11s 113ms/step - loss: 0.0360 - acc: 0.9895 - val_loss: 0.3011 - val_acc: 0.9350\n",
      "Epoch 92/100\n",
      "100/100 [==============================] - 11s 115ms/step - loss: 0.0222 - acc: 0.9910 - val_loss: 0.2808 - val_acc: 0.9380\n",
      "Epoch 93/100\n",
      "100/100 [==============================] - 11s 113ms/step - loss: 0.0160 - acc: 0.9955 - val_loss: 0.2995 - val_acc: 0.9390\n",
      "Epoch 94/100\n",
      "100/100 [==============================] - 11s 114ms/step - loss: 0.0176 - acc: 0.9945 - val_loss: 0.2369 - val_acc: 0.9390\n",
      "Epoch 95/100\n",
      "100/100 [==============================] - 11s 114ms/step - loss: 0.0231 - acc: 0.9900 - val_loss: 0.2520 - val_acc: 0.9390\n",
      "Epoch 96/100\n",
      "100/100 [==============================] - 11s 115ms/step - loss: 0.0201 - acc: 0.9920 - val_loss: 0.2696 - val_acc: 0.9420\n",
      "Epoch 97/100\n",
      "100/100 [==============================] - 11s 115ms/step - loss: 0.0225 - acc: 0.9910 - val_loss: 0.2513 - val_acc: 0.9430\n",
      "Epoch 98/100\n",
      "100/100 [==============================] - 11s 114ms/step - loss: 0.0186 - acc: 0.9930 - val_loss: 0.2958 - val_acc: 0.9360\n",
      "Epoch 99/100\n",
      "100/100 [==============================] - 11s 114ms/step - loss: 0.0172 - acc: 0.9940 - val_loss: 0.3105 - val_acc: 0.9320\n",
      "Epoch 100/100\n",
      "100/100 [==============================] - 11s 114ms/step - loss: 0.0154 - acc: 0.9965 - val_loss: 0.2687 - val_acc: 0.9330\n"
     ]
    }
   ],
   "source": [
    "model.compile(optimizer=optimizers.RMSprop(lr=1e-5),\n",
    "              loss='binary_crossentropy',\n",
    "              metrics=['accuracy'])\n",
    "history = model.fit_generator(\n",
    "      train_generator,\n",
    "      steps_per_epoch=100,\n",
    "      epochs=100,\n",
    "      validation_data=validation_generator,\n",
    "      validation_steps=50)"
   ]
  },
  {
   "cell_type": "code",
   "execution_count": 15,
   "metadata": {},
   "outputs": [],
   "source": [
    "model.save('cats_and_dogs_small_4.h5')"
   ]
  },
  {
   "cell_type": "code",
   "execution_count": 16,
   "metadata": {},
   "outputs": [
    {
     "data": {
      "image/png": "[encoded data removed]",
      "text/plain": [
       "<Figure size 432x288 with 1 Axes>"
      ]
     },
     "metadata": {
      "needs_background": "light"
     },
     "output_type": "display_data"
    },
    {
     "data": {
      "image/png": "[encoded data removed]",
      "text/plain": [
       "<Figure size 432x288 with 1 Axes>"
      ]
     },
     "metadata": {
      "needs_background": "light"
     },
     "output_type": "display_data"
    }
   ],
   "source": [
    "acc = history.history['acc']\n",
    "val_acc = history.history['val_acc']\n",
    "loss = history.history['loss']\n",
    "val_loss = history.history['val_loss']\n",
    "epochs = range(len(acc))\n",
    "\n",
    "plt.figure()\n",
    "plt.plot(epochs, acc, 'bo', label='Training acc')\n",
    "plt.plot(epochs, val_acc, 'b', label='Validation acc')\n",
    "plt.title('Training and validation accuracy')\n",
    "plt.legend()\n",
    "plt.show()\n",
    "\n",
    "plt.figure()\n",
    "plt.plot(epochs, loss, 'bo', label='Training loss')\n",
    "plt.plot(epochs, val_loss, 'b', label='Validation loss')\n",
    "plt.title('Training and validation loss')\n",
    "plt.legend()\n",
    "plt.show()"
   ]
  },
  {
   "cell_type": "code",
   "execution_count": 17,
   "metadata": {},
   "outputs": [
    {
     "data": {
      "image/png": "[encoded data removed]",
      "text/plain": [
       "<Figure size 432x288 with 1 Axes>"
      ]
     },
     "metadata": {
      "needs_background": "light"
     },
     "output_type": "display_data"
    },
    {
     "data": {
      "image/png": "[encoded data removed]",
      "text/plain": [
       "<Figure size 432x288 with 1 Axes>"
      ]
     },
     "metadata": {
      "needs_background": "light"
     },
     "output_type": "display_data"
    }
   ],
   "source": [
    "def smooth_curve(points, factor=0.8):\n",
    "    smoothed_points = []\n",
    "    for point in points:\n",
    "        if smoothed_points:\n",
    "            previous = smoothed_points[-1]\n",
    "            smoothed_points.append(previous * factor + point * (1 - factor))\n",
    "        else:\n",
    "            smoothed_points.append(point)\n",
    "    return smoothed_points\n",
    "\n",
    "plt.figure()\n",
    "plt.plot(epochs,\n",
    "         smooth_curve(acc), 'bo', label='Smoothed training acc')\n",
    "plt.plot(epochs,\n",
    "         smooth_curve(val_acc), 'b', label='Smoothed validation acc')\n",
    "plt.title('Training and validation accuracy')\n",
    "plt.legend()\n",
    "plt.show()\n",
    "\n",
    "plt.figure()\n",
    "plt.plot(epochs,\n",
    "         smooth_curve(loss), 'bo', label='Smoothed training loss')\n",
    "plt.plot(epochs,\n",
    "         smooth_curve(val_loss), 'b', label='Smoothed validation loss')\n",
    "plt.title('Training and validation loss')\n",
    "plt.legend()\n",
    "plt.show()"
   ]
  },
  {
   "cell_type": "code",
   "execution_count": 18,
   "metadata": {},
   "outputs": [
    {
     "name": "stdout",
     "output_type": "stream",
     "text": [
      "Found 1000 images belonging to 2 classes.\n",
      "test acc: 0.9419999945163727\n"
     ]
    }
   ],
   "source": [
    "test_generator = test_datagen.flow_from_directory(\n",
    "        test_dir,\n",
    "        target_size=(150, 150),\n",
    "        batch_size=20,\n",
    "        class_mode='binary')\n",
    "\n",
    "test_loss, test_acc = model.evaluate_generator(test_generator, steps=50)\n",
    "print('test acc:', test_acc)"
   ]
  }
 ],
 "metadata": {
  "kernelspec": {
   "display_name": "qinhanmin-test",
   "language": "python",
   "name": "qinhanmin-test"
  },
  "language_info": {
   "codemirror_mode": {
    "name": "ipython",
    "version": 3
   },
   "file_extension": ".py",
   "mimetype": "text/x-python",
   "name": "python",
   "nbconvert_exporter": "python",
   "pygments_lexer": "ipython3",
   "version": "3.7.3"
  }
 },
 "nbformat": 4,
 "nbformat_minor": 2
}
