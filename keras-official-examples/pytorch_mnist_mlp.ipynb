{
 "cells": [
  {
   "cell_type": "code",
   "execution_count": 1,
   "metadata": {},
   "outputs": [
    {
     "name": "stdout",
     "output_type": "stream",
     "text": [
      "1.1.0\n"
     ]
    }
   ],
   "source": [
    "import torch\n",
    "print(torch.__version__)\n",
    "torch.manual_seed(0)\n",
    "torch.backends.cudnn.deterministic = True\n",
    "torch.backends.cudnn.benchmark = False\n",
    "import random\n",
    "random.seed(0)\n",
    "import numpy as np\n",
    "np.random.seed(0)\n",
    "import torch.nn as nn\n",
    "import torch.nn.functional as F\n",
    "import torchvision\n",
    "import torchvision.transforms as transforms\n",
    "device = torch.device('cuda:0' if torch.cuda.is_available() else 'cpu')"
   ]
  },
  {
   "cell_type": "code",
   "execution_count": 2,
   "metadata": {},
   "outputs": [],
   "source": [
    "batch_size = 128\n",
    "learning_rate = 0.001\n",
    "num_epochs = 20"
   ]
  },
  {
   "cell_type": "code",
   "execution_count": 3,
   "metadata": {},
   "outputs": [],
   "source": [
    "# MNIST dataset \n",
    "train_dataset = torchvision.datasets.MNIST(root='data/', \n",
    "                                           train=True, \n",
    "                                           transform=transforms.ToTensor(),  \n",
    "                                           download=True)\n",
    "\n",
    "test_dataset = torchvision.datasets.MNIST(root='data/', \n",
    "                                          train=False, \n",
    "                                          transform=transforms.ToTensor())\n",
    "\n",
    "# Data loader\n",
    "train_loader = torch.utils.data.DataLoader(dataset=train_dataset, \n",
    "                                           batch_size=batch_size, \n",
    "                                           shuffle=True)\n",
    "\n",
    "test_loader = torch.utils.data.DataLoader(dataset=test_dataset, \n",
    "                                          batch_size=batch_size, \n",
    "                                          shuffle=False)"
   ]
  },
  {
   "cell_type": "code",
   "execution_count": 4,
   "metadata": {},
   "outputs": [],
   "source": [
    "class NeuralNet(nn.Module):\n",
    "    def __init__(self):\n",
    "        super().__init__()\n",
    "        self.fc1 = nn.Linear(784, 512)\n",
    "        self.fc2 = nn.Linear(512, 512)\n",
    "        self.fc3 = nn.Linear(512, 10)\n",
    "    \n",
    "    def forward(self, x):\n",
    "        out = self.fc1(x)\n",
    "        out = F.relu(out)\n",
    "        out = F.dropout(out, 0.2, self.training)\n",
    "        out = self.fc2(out)\n",
    "        out = F.relu(out)\n",
    "        out = F.dropout(out, 0.2, self.training)\n",
    "        out = self.fc3(out)\n",
    "        return out\n",
    "\n",
    "model = NeuralNet().to(device)"
   ]
  },
  {
   "cell_type": "code",
   "execution_count": 5,
   "metadata": {},
   "outputs": [],
   "source": [
    "# Loss and optimizer\n",
    "criterion = nn.CrossEntropyLoss()\n",
    "optimizer = torch.optim.RMSprop(model.parameters(), lr=learning_rate)"
   ]
  },
  {
   "cell_type": "code",
   "execution_count": 6,
   "metadata": {},
   "outputs": [
    {
     "name": "stdout",
     "output_type": "stream",
     "text": [
      "Epoch [1/20], Step [100/469], Loss: 0.4074\n",
      "Epoch [1/20], Step [200/469], Loss: 0.1880\n",
      "Epoch [1/20], Step [300/469], Loss: 0.1706\n",
      "Epoch [1/20], Step [400/469], Loss: 0.1473\n",
      "Epoch [2/20], Step [100/469], Loss: 0.0756\n",
      "Epoch [2/20], Step [200/469], Loss: 0.1606\n",
      "Epoch [2/20], Step [300/469], Loss: 0.0896\n",
      "Epoch [2/20], Step [400/469], Loss: 0.0632\n",
      "Epoch [3/20], Step [100/469], Loss: 0.0487\n",
      "Epoch [3/20], Step [200/469], Loss: 0.0508\n",
      "Epoch [3/20], Step [300/469], Loss: 0.0589\n",
      "Epoch [3/20], Step [400/469], Loss: 0.1442\n",
      "Epoch [4/20], Step [100/469], Loss: 0.0201\n",
      "Epoch [4/20], Step [200/469], Loss: 0.0786\n",
      "Epoch [4/20], Step [300/469], Loss: 0.0524\n",
      "Epoch [4/20], Step [400/469], Loss: 0.0132\n",
      "Epoch [5/20], Step [100/469], Loss: 0.0267\n",
      "Epoch [5/20], Step [200/469], Loss: 0.0363\n",
      "Epoch [5/20], Step [300/469], Loss: 0.0651\n",
      "Epoch [5/20], Step [400/469], Loss: 0.0277\n",
      "Epoch [6/20], Step [100/469], Loss: 0.0380\n",
      "Epoch [6/20], Step [200/469], Loss: 0.0352\n",
      "Epoch [6/20], Step [300/469], Loss: 0.0733\n",
      "Epoch [6/20], Step [400/469], Loss: 0.0772\n",
      "Epoch [7/20], Step [100/469], Loss: 0.0315\n",
      "Epoch [7/20], Step [200/469], Loss: 0.0105\n",
      "Epoch [7/20], Step [300/469], Loss: 0.0890\n",
      "Epoch [7/20], Step [400/469], Loss: 0.0911\n",
      "Epoch [8/20], Step [100/469], Loss: 0.0550\n",
      "Epoch [8/20], Step [200/469], Loss: 0.0330\n",
      "Epoch [8/20], Step [300/469], Loss: 0.0040\n",
      "Epoch [8/20], Step [400/469], Loss: 0.0181\n",
      "Epoch [9/20], Step [100/469], Loss: 0.0230\n",
      "Epoch [9/20], Step [200/469], Loss: 0.0009\n",
      "Epoch [9/20], Step [300/469], Loss: 0.0168\n",
      "Epoch [9/20], Step [400/469], Loss: 0.0059\n",
      "Epoch [10/20], Step [100/469], Loss: 0.0128\n",
      "Epoch [10/20], Step [200/469], Loss: 0.0171\n",
      "Epoch [10/20], Step [300/469], Loss: 0.0077\n",
      "Epoch [10/20], Step [400/469], Loss: 0.0457\n",
      "Epoch [11/20], Step [100/469], Loss: 0.0079\n",
      "Epoch [11/20], Step [200/469], Loss: 0.0020\n",
      "Epoch [11/20], Step [300/469], Loss: 0.0177\n",
      "Epoch [11/20], Step [400/469], Loss: 0.0093\n",
      "Epoch [12/20], Step [100/469], Loss: 0.0043\n",
      "Epoch [12/20], Step [200/469], Loss: 0.0126\n",
      "Epoch [12/20], Step [300/469], Loss: 0.0010\n",
      "Epoch [12/20], Step [400/469], Loss: 0.0063\n",
      "Epoch [13/20], Step [100/469], Loss: 0.0218\n",
      "Epoch [13/20], Step [200/469], Loss: 0.0123\n",
      "Epoch [13/20], Step [300/469], Loss: 0.0018\n",
      "Epoch [13/20], Step [400/469], Loss: 0.0250\n",
      "Epoch [14/20], Step [100/469], Loss: 0.0003\n",
      "Epoch [14/20], Step [200/469], Loss: 0.0132\n",
      "Epoch [14/20], Step [300/469], Loss: 0.0874\n",
      "Epoch [14/20], Step [400/469], Loss: 0.0059\n",
      "Epoch [15/20], Step [100/469], Loss: 0.0706\n",
      "Epoch [15/20], Step [200/469], Loss: 0.0609\n",
      "Epoch [15/20], Step [300/469], Loss: 0.0013\n",
      "Epoch [15/20], Step [400/469], Loss: 0.0069\n",
      "Epoch [16/20], Step [100/469], Loss: 0.0043\n",
      "Epoch [16/20], Step [200/469], Loss: 0.0034\n",
      "Epoch [16/20], Step [300/469], Loss: 0.0036\n",
      "Epoch [16/20], Step [400/469], Loss: 0.0070\n",
      "Epoch [17/20], Step [100/469], Loss: 0.0636\n",
      "Epoch [17/20], Step [200/469], Loss: 0.0227\n",
      "Epoch [17/20], Step [300/469], Loss: 0.0113\n",
      "Epoch [17/20], Step [400/469], Loss: 0.0146\n",
      "Epoch [18/20], Step [100/469], Loss: 0.0139\n",
      "Epoch [18/20], Step [200/469], Loss: 0.0008\n",
      "Epoch [18/20], Step [300/469], Loss: 0.0337\n",
      "Epoch [18/20], Step [400/469], Loss: 0.0134\n",
      "Epoch [19/20], Step [100/469], Loss: 0.0056\n",
      "Epoch [19/20], Step [200/469], Loss: 0.0630\n",
      "Epoch [19/20], Step [300/469], Loss: 0.0085\n",
      "Epoch [19/20], Step [400/469], Loss: 0.0098\n",
      "Epoch [20/20], Step [100/469], Loss: 0.0105\n",
      "Epoch [20/20], Step [200/469], Loss: 0.0003\n",
      "Epoch [20/20], Step [300/469], Loss: 0.0116\n",
      "Epoch [20/20], Step [400/469], Loss: 0.0051\n"
     ]
    }
   ],
   "source": [
    "# Train the model\n",
    "total_step = len(train_loader)\n",
    "for epoch in range(num_epochs):\n",
    "    for i, (images, labels) in enumerate(train_loader):  \n",
    "        # Move tensors to the configured device\n",
    "        images = images.reshape(-1, 28 * 28).to(device)\n",
    "        labels = labels.to(device)\n",
    "\n",
    "        # Forward pass\n",
    "        outputs = model(images)\n",
    "        loss = criterion(outputs, labels)\n",
    "\n",
    "        # Backward and optimize\n",
    "        optimizer.zero_grad()\n",
    "        loss.backward()\n",
    "        optimizer.step()\n",
    "\n",
    "        if (i + 1) % 100 == 0:\n",
    "            print ('Epoch [{}/{}], Step [{}/{}], Loss: {:.4f}' \n",
    "                   .format(epoch + 1, num_epochs, i + 1, total_step, loss.item()))"
   ]
  },
  {
   "cell_type": "code",
   "execution_count": 7,
   "metadata": {},
   "outputs": [
    {
     "name": "stdout",
     "output_type": "stream",
     "text": [
      "Accuracy of the network on the 10000 test images: 98.34 %\n"
     ]
    }
   ],
   "source": [
    "model.eval()\n",
    "with torch.no_grad():\n",
    "    correct = 0\n",
    "    total = 0\n",
    "    for images, labels in test_loader:\n",
    "        images = images.reshape(-1, 28 * 28).to(device)\n",
    "        labels = labels.to(device)\n",
    "        outputs = model(images)\n",
    "        _, predicted = torch.max(outputs.data, 1)\n",
    "        total += labels.size(0)\n",
    "        correct += (predicted == labels).sum().item()\n",
    "\n",
    "    print('Accuracy of the network on the 10000 test images: {} %'.format(100 * correct / total))"
   ]
  }
 ],
 "metadata": {
  "kernelspec": {
   "display_name": "qhmtorch",
   "language": "python",
   "name": "qhmtorch"
  },
  "language_info": {
   "codemirror_mode": {
    "name": "ipython",
    "version": 3
   },
   "file_extension": ".py",
   "mimetype": "text/x-python",
   "name": "python",
   "nbconvert_exporter": "python",
   "pygments_lexer": "ipython3",
   "version": "3.7.4"
  }
 },
 "nbformat": 4,
 "nbformat_minor": 2
}
