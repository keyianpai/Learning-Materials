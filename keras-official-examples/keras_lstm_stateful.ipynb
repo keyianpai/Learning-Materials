{
 "cells": [
  {
   "cell_type": "raw",
   "metadata": {},
   "source": [
    "How to use a stateful LSTM model, stateful vs stateless LSTM performance comparison\n",
    "\n",
    "[More documentation about the Keras LSTM model](/layers/recurrent/#lstm)\n",
    "\n",
    "The models are trained on an input/output pair, where\n",
    "the input is a generated uniformly distributed\n",
    "random sequence of length = `input_len`,\n",
    "and the output is a moving average of the input with window length = `tsteps`.\n",
    "Both `input_len` and `tsteps` are defined in the \"editable parameters\"\n",
    "section.\n",
    "\n",
    "A larger `tsteps` value means that the LSTM will need more memory\n",
    "to figure out the input-output relationship.\n",
    "This memory length is controlled by the `lahead` variable (more details below).\n",
    "\n",
    "The rest of the parameters are:\n",
    "\n",
    "- `input_len`: the length of the generated input sequence\n",
    "- `lahead`: the input sequence length that the LSTM\n",
    "  is trained on for each output point\n",
    "- `batch_size`, `epochs`: same parameters as in the `model.fit(...)`\n",
    "  function\n",
    "\n",
    "When `lahead > 1`, the model input is preprocessed to a \"rolling window view\"\n",
    "of the data, with the window length = `lahead`.\n",
    "This is similar to sklearn's `view_as_windows`\n",
    "with `window_shape` [being a single number.](\n",
    "http://scikit-image.org/docs/0.10.x/api/skimage.util.html#view-as-windows)\n",
    "\n",
    "When `lahead < tsteps`, only the stateful LSTM converges because its\n",
    "statefulness allows it to see beyond the capability that lahead\n",
    "gave it to fit the n-point average. The stateless LSTM does not have\n",
    "this capability, and hence is limited by its `lahead` parameter,\n",
    "which is not sufficient to see the n-point average.\n",
    "\n",
    "When `lahead >= tsteps`, both the stateful and stateless LSTM converge."
   ]
  },
  {
   "cell_type": "code",
   "execution_count": 1,
   "metadata": {},
   "outputs": [
    {
     "name": "stderr",
     "output_type": "stream",
     "text": [
      "/home/sunxin/miniconda3/envs/qinhanmin-test/lib/python3.7/site-packages/tensorflow/python/framework/dtypes.py:526: FutureWarning: Passing (type, 1) or '1type' as a synonym of type is deprecated; in a future version of numpy, it will be understood as (type, (1,)) / '(1,)type'.\n",
      "  _np_qint8 = np.dtype([(\"qint8\", np.int8, 1)])\n",
      "/home/sunxin/miniconda3/envs/qinhanmin-test/lib/python3.7/site-packages/tensorflow/python/framework/dtypes.py:527: FutureWarning: Passing (type, 1) or '1type' as a synonym of type is deprecated; in a future version of numpy, it will be understood as (type, (1,)) / '(1,)type'.\n",
      "  _np_quint8 = np.dtype([(\"quint8\", np.uint8, 1)])\n",
      "/home/sunxin/miniconda3/envs/qinhanmin-test/lib/python3.7/site-packages/tensorflow/python/framework/dtypes.py:528: FutureWarning: Passing (type, 1) or '1type' as a synonym of type is deprecated; in a future version of numpy, it will be understood as (type, (1,)) / '(1,)type'.\n",
      "  _np_qint16 = np.dtype([(\"qint16\", np.int16, 1)])\n",
      "/home/sunxin/miniconda3/envs/qinhanmin-test/lib/python3.7/site-packages/tensorflow/python/framework/dtypes.py:529: FutureWarning: Passing (type, 1) or '1type' as a synonym of type is deprecated; in a future version of numpy, it will be understood as (type, (1,)) / '(1,)type'.\n",
      "  _np_quint16 = np.dtype([(\"quint16\", np.uint16, 1)])\n",
      "/home/sunxin/miniconda3/envs/qinhanmin-test/lib/python3.7/site-packages/tensorflow/python/framework/dtypes.py:530: FutureWarning: Passing (type, 1) or '1type' as a synonym of type is deprecated; in a future version of numpy, it will be understood as (type, (1,)) / '(1,)type'.\n",
      "  _np_qint32 = np.dtype([(\"qint32\", np.int32, 1)])\n",
      "/home/sunxin/miniconda3/envs/qinhanmin-test/lib/python3.7/site-packages/tensorflow/python/framework/dtypes.py:535: FutureWarning: Passing (type, 1) or '1type' as a synonym of type is deprecated; in a future version of numpy, it will be understood as (type, (1,)) / '(1,)type'.\n",
      "  np_resource = np.dtype([(\"resource\", np.ubyte, 1)])\n"
     ]
    },
    {
     "name": "stdout",
     "output_type": "stream",
     "text": [
      "1.13.2\n",
      "2.2.4\n"
     ]
    },
    {
     "name": "stderr",
     "output_type": "stream",
     "text": [
      "Using TensorFlow backend.\n"
     ]
    }
   ],
   "source": [
    "import os\n",
    "os.environ[\"CUDA_VISIBLE_DEVICES\"] = \"3\"\n",
    "import tensorflow as tf\n",
    "print(tf.__version__)\n",
    "import keras\n",
    "print(keras.__version__)"
   ]
  },
  {
   "cell_type": "code",
   "execution_count": 2,
   "metadata": {},
   "outputs": [],
   "source": [
    "import numpy as np\n",
    "import pandas as pd\n",
    "from keras import models\n",
    "from keras import layers\n",
    "import matplotlib.pyplot as plt\n",
    "%matplotlib inline"
   ]
  },
  {
   "cell_type": "code",
   "execution_count": 3,
   "metadata": {},
   "outputs": [],
   "source": [
    "# ----------------------------------------------------------\n",
    "# EDITABLE PARAMETERS\n",
    "# Read the documentation in the script head for more details\n",
    "# ----------------------------------------------------------\n",
    "\n",
    "# length of input\n",
    "input_len = 1000\n",
    "\n",
    "# The window length of the moving average used to generate\n",
    "# the output from the input in the input/output pair used\n",
    "# to train the LSTM\n",
    "# e.g. if tsteps=2 and input=[1, 2, 3, 4, 5],\n",
    "#      then output=[1.5, 2.5, 3.5, 4.5]\n",
    "tsteps = 2\n",
    "\n",
    "# The input sequence length that the LSTM is trained on for each output point\n",
    "lahead = 1\n",
    "\n",
    "# training parameters passed to \"model.fit(...)\"\n",
    "batch_size = 1\n",
    "epochs = 10"
   ]
  },
  {
   "cell_type": "code",
   "execution_count": 4,
   "metadata": {},
   "outputs": [
    {
     "name": "stdout",
     "output_type": "stream",
     "text": [
      "*********************************\n",
      "STATELESS LSTM WILL NOT CONVERGE\n",
      "*********************************\n",
      "Generating Data...\n",
      "Input shape: (1000, 1)\n",
      "Output shape: (1000, 1)\n",
      "Input head: \n",
      "          0\n",
      "1 -0.084532\n",
      "2  0.021696\n",
      "3  0.079500\n",
      "4  0.008981\n",
      "5  0.040544\n",
      "Output head: \n",
      "          0\n",
      "1 -0.035379\n",
      "2 -0.031418\n",
      "3  0.050598\n",
      "4  0.044240\n",
      "5  0.024763\n",
      "Input tail: \n",
      "             0\n",
      "996   0.010251\n",
      "997  -0.027833\n",
      "998   0.003984\n",
      "999   0.028471\n",
      "1000 -0.057877\n",
      "Output tail: \n",
      "             0\n",
      "996   0.025187\n",
      "997  -0.008791\n",
      "998  -0.011925\n",
      "999   0.016227\n",
      "1000 -0.014703\n",
      "Plotting input and expected output\n"
     ]
    },
    {
     "data": {
      "image/png": "[encoded data removed]",
      "text/plain": [
       "<Figure size 432x288 with 1 Axes>"
      ]
     },
     "metadata": {
      "needs_background": "light"
     },
     "output_type": "display_data"
    }
   ],
   "source": [
    "# ------------\n",
    "# MAIN PROGRAM\n",
    "# ------------\n",
    "\n",
    "print(\"*\" * 33)\n",
    "if lahead >= tsteps:\n",
    "    print(\"STATELESS LSTM WILL ALSO CONVERGE\")\n",
    "else:\n",
    "    print(\"STATELESS LSTM WILL NOT CONVERGE\")\n",
    "print(\"*\" * 33)\n",
    "\n",
    "np.random.seed(1986)\n",
    "\n",
    "print('Generating Data...')\n",
    "\n",
    "\n",
    "def gen_uniform_amp(amp=1, xn=10000):\n",
    "    \"\"\"Generates uniform random data between\n",
    "    -amp and +amp\n",
    "    and of length xn\n",
    "    # Arguments\n",
    "        amp: maximum/minimum range of uniform data\n",
    "        xn: length of series\n",
    "    \"\"\"\n",
    "    data_input = np.random.uniform(-1 * amp, +1 * amp, xn)\n",
    "    data_input = pd.DataFrame(data_input)\n",
    "    return data_input\n",
    "\n",
    "# Since the output is a moving average of the input,\n",
    "# the first few points of output will be NaN\n",
    "# and will be dropped from the generated data\n",
    "# before training the LSTM.\n",
    "# Also, when lahead > 1,\n",
    "# the preprocessing step later of \"rolling window view\"\n",
    "# will also cause some points to be lost.\n",
    "# For aesthetic reasons,\n",
    "# in order to maintain generated data length = input_len after pre-processing,\n",
    "# add a few points to account for the values that will be lost.\n",
    "to_drop = max(tsteps - 1, lahead - 1)\n",
    "data_input = gen_uniform_amp(amp=0.1, xn=input_len + to_drop)\n",
    "\n",
    "# set the target to be a N-point average of the input\n",
    "expected_output = data_input.rolling(window=tsteps, center=False).mean()\n",
    "\n",
    "# when lahead > 1, need to convert the input to \"rolling window view\"\n",
    "# https://docs.scipy.org/doc/numpy/reference/generated/numpy.repeat.html\n",
    "if lahead > 1:\n",
    "    data_input = np.repeat(data_input.values, repeats=lahead, axis=1)\n",
    "    data_input = pd.DataFrame(data_input)\n",
    "    for i, c in enumerate(data_input.columns):\n",
    "        data_input[c] = data_input[c].shift(i)\n",
    "\n",
    "# drop the nan\n",
    "expected_output = expected_output[to_drop:]\n",
    "data_input = data_input[to_drop:]\n",
    "\n",
    "print('Input shape:', data_input.shape)\n",
    "print('Output shape:', expected_output.shape)\n",
    "print('Input head: ')\n",
    "print(data_input.head())\n",
    "print('Output head: ')\n",
    "print(expected_output.head())\n",
    "print('Input tail: ')\n",
    "print(data_input.tail())\n",
    "print('Output tail: ')\n",
    "print(expected_output.tail())\n",
    "\n",
    "print('Plotting input and expected output')\n",
    "plt.plot(data_input[0][:10], '.')\n",
    "plt.plot(expected_output[0][:10], '-')\n",
    "plt.legend(['Input', 'Expected output'])\n",
    "plt.title('Input')\n",
    "plt.show()"
   ]
  },
  {
   "cell_type": "code",
   "execution_count": 5,
   "metadata": {},
   "outputs": [
    {
     "name": "stdout",
     "output_type": "stream",
     "text": [
      "Creating Stateful Model...\n",
      "WARNING:tensorflow:From /home/sunxin/miniconda3/envs/qinhanmin-test/lib/python3.7/site-packages/tensorflow/python/framework/op_def_library.py:263: colocate_with (from tensorflow.python.framework.ops) is deprecated and will be removed in a future version.\n",
      "Instructions for updating:\n",
      "Colocations handled automatically by placer.\n"
     ]
    }
   ],
   "source": [
    "def create_model(stateful):\n",
    "    model = models.Sequential()\n",
    "    model.add(layers.LSTM(20, input_shape=(lahead, 1),\n",
    "                          batch_size=batch_size,\n",
    "                          stateful=stateful))\n",
    "    model.add(layers.Dense(1))\n",
    "    model.compile(loss='mse', optimizer='adam')\n",
    "    return model\n",
    "\n",
    "print('Creating Stateful Model...')\n",
    "model_stateful = create_model(stateful=True)"
   ]
  },
  {
   "cell_type": "code",
   "execution_count": 6,
   "metadata": {},
   "outputs": [
    {
     "name": "stdout",
     "output_type": "stream",
     "text": [
      "x_train.shape:  (800, 1, 1)\n",
      "y_train.shape:  (800, 1)\n",
      "x_test.shape:  (200, 1, 1)\n",
      "y_test.shape:  (200, 1)\n"
     ]
    }
   ],
   "source": [
    "# split train/test data\n",
    "def split_data(x, y, ratio=0.8):\n",
    "    to_train = int(input_len * ratio)\n",
    "    # tweak to match with batch_size\n",
    "    to_train -= to_train % batch_size\n",
    "\n",
    "    x_train = x[:to_train]\n",
    "    y_train = y[:to_train]\n",
    "    x_test = x[to_train:]\n",
    "    y_test = y[to_train:]\n",
    "\n",
    "    # tweak to match with batch_size\n",
    "    to_drop = x.shape[0] % batch_size\n",
    "    if to_drop > 0:\n",
    "        x_test = x_test[:-1 * to_drop]\n",
    "        y_test = y_test[:-1 * to_drop]\n",
    "\n",
    "    # some reshaping\n",
    "    reshape_3 = lambda x: x.values.reshape((x.shape[0], x.shape[1], 1))\n",
    "    x_train = reshape_3(x_train)\n",
    "    x_test = reshape_3(x_test)\n",
    "\n",
    "    reshape_2 = lambda x: x.values.reshape((x.shape[0], 1))\n",
    "    y_train = reshape_2(y_train)\n",
    "    y_test = reshape_2(y_test)\n",
    "\n",
    "    return (x_train, y_train), (x_test, y_test)\n",
    "\n",
    "\n",
    "(x_train, y_train), (x_test, y_test) = split_data(data_input, expected_output)\n",
    "print('x_train.shape: ', x_train.shape)\n",
    "print('y_train.shape: ', y_train.shape)\n",
    "print('x_test.shape: ', x_test.shape)\n",
    "print('y_test.shape: ', y_test.shape)"
   ]
  },
  {
   "cell_type": "code",
   "execution_count": 7,
   "metadata": {},
   "outputs": [
    {
     "name": "stdout",
     "output_type": "stream",
     "text": [
      "Training\n",
      "Epoch 1 / 10\n",
      "WARNING:tensorflow:From /home/sunxin/miniconda3/envs/qinhanmin-test/lib/python3.7/site-packages/tensorflow/python/ops/math_ops.py:3066: to_int32 (from tensorflow.python.ops.math_ops) is deprecated and will be removed in a future version.\n",
      "Instructions for updating:\n",
      "Use tf.cast instead.\n",
      "Train on 800 samples, validate on 200 samples\n",
      "Epoch 1/1\n",
      "800/800 [==============================] - 5s 6ms/step - loss: 6.0453e-04 - val_loss: 5.2286e-04\n",
      "Epoch 2 / 10\n",
      "Train on 800 samples, validate on 200 samples\n",
      "Epoch 1/1\n",
      "800/800 [==============================] - 4s 5ms/step - loss: 3.0354e-04 - val_loss: 2.6781e-04\n",
      "Epoch 3 / 10\n",
      "Train on 800 samples, validate on 200 samples\n",
      "Epoch 1/1\n",
      "800/800 [==============================] - 4s 5ms/step - loss: 2.4970e-04 - val_loss: 2.2214e-04\n",
      "Epoch 4 / 10\n",
      "Train on 800 samples, validate on 200 samples\n",
      "Epoch 1/1\n",
      "800/800 [==============================] - 4s 5ms/step - loss: 2.4797e-04 - val_loss: 2.0984e-04\n",
      "Epoch 5 / 10\n",
      "Train on 800 samples, validate on 200 samples\n",
      "Epoch 1/1\n",
      "800/800 [==============================] - 4s 5ms/step - loss: 2.5119e-04 - val_loss: 2.0494e-04\n",
      "Epoch 6 / 10\n",
      "Train on 800 samples, validate on 200 samples\n",
      "Epoch 1/1\n",
      "800/800 [==============================] - 4s 5ms/step - loss: 2.5159e-04 - val_loss: 2.0519e-04\n",
      "Epoch 7 / 10\n",
      "Train on 800 samples, validate on 200 samples\n",
      "Epoch 1/1\n",
      "800/800 [==============================] - 4s 5ms/step - loss: 2.5382e-04 - val_loss: 2.0641e-04\n",
      "Epoch 8 / 10\n",
      "Train on 800 samples, validate on 200 samples\n",
      "Epoch 1/1\n",
      "800/800 [==============================] - 4s 5ms/step - loss: 2.5484e-04 - val_loss: 2.0869e-04\n",
      "Epoch 9 / 10\n",
      "Train on 800 samples, validate on 200 samples\n",
      "Epoch 1/1\n",
      "800/800 [==============================] - 4s 5ms/step - loss: 2.5601e-04 - val_loss: 2.1089e-04\n",
      "Epoch 10 / 10\n",
      "Train on 800 samples, validate on 200 samples\n",
      "Epoch 1/1\n",
      "800/800 [==============================] - 4s 5ms/step - loss: 2.5687e-04 - val_loss: 2.1243e-04\n",
      "Predicting\n"
     ]
    }
   ],
   "source": [
    "print('Training')\n",
    "for i in range(epochs):\n",
    "    print('Epoch', i + 1, '/', epochs)\n",
    "    # Note that the last state for sample i in a batch will\n",
    "    # be used as initial state for sample i in the next batch.\n",
    "    # Thus we are simultaneously training on batch_size series with\n",
    "    # lower resolution than the original series contained in data_input.\n",
    "    # Each of these series are offset by one step and can be\n",
    "    # extracted with data_input[i::batch_size].\n",
    "    model_stateful.fit(x_train,\n",
    "                       y_train,\n",
    "                       batch_size=batch_size,\n",
    "                       epochs=1,\n",
    "                       verbose=1,\n",
    "                       validation_data=(x_test, y_test),\n",
    "                       shuffle=False)\n",
    "    model_stateful.reset_states()\n",
    "\n",
    "print('Predicting')\n",
    "predicted_stateful = model_stateful.predict(x_test, batch_size=batch_size)"
   ]
  },
  {
   "cell_type": "code",
   "execution_count": 8,
   "metadata": {},
   "outputs": [
    {
     "name": "stdout",
     "output_type": "stream",
     "text": [
      "Creating Stateless Model...\n",
      "Training\n",
      "Train on 800 samples, validate on 200 samples\n",
      "Epoch 1/10\n",
      "800/800 [==============================] - 4s 5ms/step - loss: 0.0010 - val_loss: 0.0011\n",
      "Epoch 2/10\n",
      "800/800 [==============================] - 4s 5ms/step - loss: 8.5858e-04 - val_loss: 0.0010\n",
      "Epoch 3/10\n",
      "800/800 [==============================] - 4s 5ms/step - loss: 8.5562e-04 - val_loss: 0.0010\n",
      "Epoch 4/10\n",
      "800/800 [==============================] - 4s 5ms/step - loss: 8.5408e-04 - val_loss: 9.9553e-04\n",
      "Epoch 5/10\n",
      "800/800 [==============================] - 4s 5ms/step - loss: 8.5305e-04 - val_loss: 9.8790e-04\n",
      "Epoch 6/10\n",
      "800/800 [==============================] - 4s 5ms/step - loss: 8.5231e-04 - val_loss: 9.8188e-04\n",
      "Epoch 7/10\n",
      "800/800 [==============================] - 4s 5ms/step - loss: 8.5169e-04 - val_loss: 9.7663e-04\n",
      "Epoch 8/10\n",
      "800/800 [==============================] - 4s 5ms/step - loss: 8.5111e-04 - val_loss: 9.7196e-04\n",
      "Epoch 9/10\n",
      "800/800 [==============================] - 4s 5ms/step - loss: 8.5061e-04 - val_loss: 9.6781e-04\n",
      "Epoch 10/10\n",
      "800/800 [==============================] - 4s 5ms/step - loss: 8.5018e-04 - val_loss: 9.6405e-04\n",
      "Predicting\n"
     ]
    }
   ],
   "source": [
    "print('Creating Stateless Model...')\n",
    "model_stateless = create_model(stateful=False)\n",
    "\n",
    "print('Training')\n",
    "model_stateless.fit(x_train,\n",
    "                    y_train,\n",
    "                    batch_size=batch_size,\n",
    "                    epochs=epochs,\n",
    "                    verbose=1,\n",
    "                    validation_data=(x_test, y_test),\n",
    "                    shuffle=False)\n",
    "\n",
    "print('Predicting')\n",
    "predicted_stateless = model_stateless.predict(x_test, batch_size=batch_size)"
   ]
  },
  {
   "cell_type": "code",
   "execution_count": 9,
   "metadata": {},
   "outputs": [
    {
     "name": "stdout",
     "output_type": "stream",
     "text": [
      "Plotting Results\n"
     ]
    },
    {
     "data": {
      "image/png": "[encoded data removed]",
      "text/plain": [
       "<Figure size 432x288 with 3 Axes>"
      ]
     },
     "metadata": {
      "needs_background": "light"
     },
     "output_type": "display_data"
    }
   ],
   "source": [
    "print('Plotting Results')\n",
    "plt.subplot(3, 1, 1)\n",
    "plt.plot(y_test)\n",
    "plt.title('Expected')\n",
    "plt.subplot(3, 1, 2)\n",
    "# drop the first \"tsteps-1\" because it is not possible to predict them\n",
    "# since the \"previous\" timesteps to use do not exist\n",
    "plt.plot((y_test - predicted_stateful).flatten()[tsteps - 1:])\n",
    "plt.title('Stateful: Expected - Predicted')\n",
    "plt.subplot(3, 1, 3)\n",
    "plt.plot((y_test - predicted_stateless).flatten())\n",
    "plt.title('Stateless: Expected - Predicted')\n",
    "plt.tight_layout()\n",
    "plt.show()"
   ]
  }
 ],
 "metadata": {
  "kernelspec": {
   "display_name": "qinhanmin-test",
   "language": "python",
   "name": "qinhanmin-test"
  },
  "language_info": {
   "codemirror_mode": {
    "name": "ipython",
    "version": 3
   },
   "file_extension": ".py",
   "mimetype": "text/x-python",
   "name": "python",
   "nbconvert_exporter": "python",
   "pygments_lexer": "ipython3",
   "version": "3.7.3"
  }
 },
 "nbformat": 4,
 "nbformat_minor": 2
}
