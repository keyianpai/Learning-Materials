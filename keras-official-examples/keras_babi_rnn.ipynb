{
 "cells": [
  {
   "cell_type": "raw",
   "metadata": {},
   "source": [
    "Trains two recurrent neural networks based upon a story and a question.\n",
    "\n",
    "The resulting merged vector is then queried to answer a range of bAbI tasks.\n",
    "\n",
    "The results are comparable to those for an LSTM model provided in Weston et al.:\n",
    "\"Towards AI-Complete Question Answering: A Set of Prerequisite Toy Tasks\"\n",
    "http://arxiv.org/abs/1502.05698\n",
    "\n",
    "For the resources related to the bAbI project, refer to:\n",
    "https://research.facebook.com/researchers/1543934539189348\n",
    "\n",
    "### Notes\n",
    "\n",
    "- With default word, sentence, and query vector sizes, the GRU model achieves:\n",
    "  - 52.1% test accuracy on QA1 in 20 epochs (2 seconds per epoch on CPU)\n",
    "  - 37.0% test accuracy on QA2 in 20 epochs (16 seconds per epoch on CPU)\n",
    "In comparison, the Facebook paper achieves 50% and 20% for the LSTM baseline.\n",
    "\n",
    "- The task does not traditionally parse the question separately. This likely\n",
    "improves accuracy and is a good example of merging two RNNs.\n",
    "\n",
    "- The word vector embeddings are not shared between the story and question RNNs.\n",
    "\n",
    "- See how the accuracy changes given 10,000 training samples (en-10k) instead\n",
    "of only 1000. 1000 was used in order to be comparable to the original paper.\n",
    "\n",
    "- Experiment with GRU, LSTM, and JZS1-3 as they give subtly different results.\n",
    "\n",
    "- The length and noise (i.e. 'useless' story components) impact the ability of\n",
    "LSTMs / GRUs to provide the correct answer. Given only the supporting facts,\n",
    "these RNNs can achieve 100% accuracy on many tasks. Memory networks and neural\n",
    "networks that use attentional processes can efficiently search through this\n",
    "noise to find the relevant statements, improving performance substantially.\n",
    "This becomes especially obvious on QA2 and QA3, both far longer than QA1."
   ]
  },
  {
   "cell_type": "markdown",
   "metadata": {},
   "source": [
    "Task Number                  | FB LSTM Baseline | Keras QA\n",
    "---                          | ---              | ---\n",
    "QA1 - Single Supporting Fact | 50               | 52.1\n",
    "QA2 - Two Supporting Facts   | 20               | 37.0\n",
    "QA3 - Three Supporting Facts | 20               | 20.5\n",
    "QA4 - Two Arg. Relations     | 61               | 62.9\n",
    "QA5 - Three Arg. Relations   | 70               | 61.9\n",
    "QA6 - yes/No Questions       | 48               | 50.7\n",
    "QA7 - Counting               | 49               | 78.9\n",
    "QA8 - Lists/Sets             | 45               | 77.2\n",
    "QA9 - Simple Negation        | 64               | 64.0\n",
    "QA10 - Indefinite Knowledge  | 44               | 47.7\n",
    "QA11 - Basic Coreference     | 72               | 74.9\n",
    "QA12 - Conjunction           | 74               | 76.4\n",
    "QA13 - Compound Coreference  | 94               | 94.4\n",
    "QA14 - Time Reasoning        | 27               | 34.8\n",
    "QA15 - Basic Deduction       | 21               | 32.4\n",
    "QA16 - Basic Induction       | 23               | 50.6\n",
    "QA17 - Positional Reasoning  | 51               | 49.1\n",
    "QA18 - Size Reasoning        | 52               | 90.8\n",
    "QA19 - Path Finding          | 8                | 9.0\n",
    "QA20 - Agent's Motivations   | 91               | 90.7"
   ]
  },
  {
   "cell_type": "code",
   "execution_count": 1,
   "metadata": {},
   "outputs": [
    {
     "name": "stderr",
     "output_type": "stream",
     "text": [
      "/home/sunxin/miniconda3/envs/qinhanmin-test/lib/python3.7/site-packages/tensorflow/python/framework/dtypes.py:526: FutureWarning: Passing (type, 1) or '1type' as a synonym of type is deprecated; in a future version of numpy, it will be understood as (type, (1,)) / '(1,)type'.\n",
      "  _np_qint8 = np.dtype([(\"qint8\", np.int8, 1)])\n",
      "/home/sunxin/miniconda3/envs/qinhanmin-test/lib/python3.7/site-packages/tensorflow/python/framework/dtypes.py:527: FutureWarning: Passing (type, 1) or '1type' as a synonym of type is deprecated; in a future version of numpy, it will be understood as (type, (1,)) / '(1,)type'.\n",
      "  _np_quint8 = np.dtype([(\"quint8\", np.uint8, 1)])\n",
      "/home/sunxin/miniconda3/envs/qinhanmin-test/lib/python3.7/site-packages/tensorflow/python/framework/dtypes.py:528: FutureWarning: Passing (type, 1) or '1type' as a synonym of type is deprecated; in a future version of numpy, it will be understood as (type, (1,)) / '(1,)type'.\n",
      "  _np_qint16 = np.dtype([(\"qint16\", np.int16, 1)])\n",
      "/home/sunxin/miniconda3/envs/qinhanmin-test/lib/python3.7/site-packages/tensorflow/python/framework/dtypes.py:529: FutureWarning: Passing (type, 1) or '1type' as a synonym of type is deprecated; in a future version of numpy, it will be understood as (type, (1,)) / '(1,)type'.\n",
      "  _np_quint16 = np.dtype([(\"quint16\", np.uint16, 1)])\n",
      "/home/sunxin/miniconda3/envs/qinhanmin-test/lib/python3.7/site-packages/tensorflow/python/framework/dtypes.py:530: FutureWarning: Passing (type, 1) or '1type' as a synonym of type is deprecated; in a future version of numpy, it will be understood as (type, (1,)) / '(1,)type'.\n",
      "  _np_qint32 = np.dtype([(\"qint32\", np.int32, 1)])\n",
      "/home/sunxin/miniconda3/envs/qinhanmin-test/lib/python3.7/site-packages/tensorflow/python/framework/dtypes.py:535: FutureWarning: Passing (type, 1) or '1type' as a synonym of type is deprecated; in a future version of numpy, it will be understood as (type, (1,)) / '(1,)type'.\n",
      "  np_resource = np.dtype([(\"resource\", np.ubyte, 1)])\n"
     ]
    },
    {
     "name": "stdout",
     "output_type": "stream",
     "text": [
      "1.13.2\n",
      "2.2.4\n"
     ]
    },
    {
     "name": "stderr",
     "output_type": "stream",
     "text": [
      "Using TensorFlow backend.\n"
     ]
    }
   ],
   "source": [
    "import os\n",
    "os.environ[\"CUDA_VISIBLE_DEVICES\"] = \"3\"\n",
    "import tensorflow as tf\n",
    "print(tf.__version__)\n",
    "import keras\n",
    "print(keras.__version__)"
   ]
  },
  {
   "cell_type": "code",
   "execution_count": 2,
   "metadata": {},
   "outputs": [],
   "source": [
    "import re\n",
    "import numpy as np\n",
    "from functools import reduce\n",
    "from keras import preprocessing\n",
    "from keras import layers\n",
    "from keras import models"
   ]
  },
  {
   "cell_type": "code",
   "execution_count": 3,
   "metadata": {},
   "outputs": [],
   "source": [
    "def tokenize(sent):\n",
    "    '''Return the tokens of a sentence including punctuation.\n",
    "    >>> tokenize('Bob dropped the apple. Where is the apple?')\n",
    "    ['Bob', 'dropped', 'the', 'apple', '.', 'Where', 'is', 'the', 'apple', '?']\n",
    "    '''\n",
    "    return [x.strip() for x in re.split(r'(\\W+)', sent) if x.strip()]"
   ]
  },
  {
   "cell_type": "code",
   "execution_count": 4,
   "metadata": {},
   "outputs": [],
   "source": [
    "def parse_stories(lines, only_supporting=False):\n",
    "    '''Parse stories provided in the bAbi tasks format\n",
    "    If only_supporting is true,\n",
    "    only the sentences that support the answer are kept.\n",
    "    '''\n",
    "    data = []\n",
    "    story = []\n",
    "    for line in lines:\n",
    "        line = line.strip()\n",
    "        nid, line = line.split(' ', 1)\n",
    "        nid = int(nid)\n",
    "        if nid == 1:\n",
    "            story = []\n",
    "        if '\\t' in line:\n",
    "            q, a, supporting = line.split('\\t')\n",
    "            q = tokenize(q)\n",
    "            if only_supporting:\n",
    "                # Only select the related substory\n",
    "                supporting = map(int, supporting.split())\n",
    "                substory = [story[i - 1] for i in supporting]\n",
    "            else:\n",
    "                # Provide all the substories\n",
    "                substory = [x for x in story if x]\n",
    "            data.append((substory, q, a))\n",
    "            story.append('')\n",
    "        else:\n",
    "            sent = tokenize(line)\n",
    "            story.append(sent)\n",
    "    return data"
   ]
  },
  {
   "cell_type": "code",
   "execution_count": 5,
   "metadata": {},
   "outputs": [],
   "source": [
    "def get_stories(f, only_supporting=False, max_length=None):\n",
    "    '''Given a file name, read the file, retrieve the stories,\n",
    "    and then convert the sentences into a single story.\n",
    "    If max_length is supplied,\n",
    "    any stories longer than max_length tokens will be discarded.\n",
    "    '''\n",
    "    data = parse_stories(f.readlines(), only_supporting=only_supporting)\n",
    "    flatten = lambda data: reduce(lambda x, y: x + y, data)\n",
    "    data = [(flatten(story), q, answer) for story, q, answer in data\n",
    "            if not max_length or len(flatten(story)) < max_length]\n",
    "    return data"
   ]
  },
  {
   "cell_type": "code",
   "execution_count": 6,
   "metadata": {},
   "outputs": [],
   "source": [
    "def vectorize_stories(data, word_idx, story_maxlen, query_maxlen):\n",
    "    xs = []\n",
    "    xqs = []\n",
    "    ys = []\n",
    "    for story, query, answer in data:\n",
    "        x = [word_idx[w] for w in story]\n",
    "        xq = [word_idx[w] for w in query]\n",
    "        # let's not forget that index 0 is reserved\n",
    "        y = np.zeros(len(word_idx) + 1)\n",
    "        y[word_idx[answer]] = 1\n",
    "        xs.append(x)\n",
    "        xqs.append(xq)\n",
    "        ys.append(y)\n",
    "    return (preprocessing.sequence.pad_sequences(xs, maxlen=story_maxlen),\n",
    "             preprocessing.sequence.pad_sequences(xqs, maxlen=query_maxlen), np.array(ys))"
   ]
  },
  {
   "cell_type": "code",
   "execution_count": 7,
   "metadata": {},
   "outputs": [
    {
     "name": "stdout",
     "output_type": "stream",
     "text": [
      "RNN / Embed / Sent / Query = <class 'keras.layers.cudnn_recurrent.CuDNNLSTM'>, 50, 100, 100\n"
     ]
    }
   ],
   "source": [
    "# https://s3.amazonaws.com/text-datasets/babi_tasks_1-20_v1-2.tar.gz\n",
    "RNN = layers.CuDNNLSTM\n",
    "EMBED_HIDDEN_SIZE = 50\n",
    "SENT_HIDDEN_SIZE = 100\n",
    "QUERY_HIDDEN_SIZE = 100\n",
    "BATCH_SIZE = 32\n",
    "EPOCHS = 20\n",
    "print('RNN / Embed / Sent / Query = {}, {}, {}, {}'.format(RNN,\n",
    "                                                           EMBED_HIDDEN_SIZE,\n",
    "                                                           SENT_HIDDEN_SIZE,\n",
    "                                                           QUERY_HIDDEN_SIZE))"
   ]
  },
  {
   "cell_type": "code",
   "execution_count": 8,
   "metadata": {},
   "outputs": [],
   "source": [
    "### QA1"
   ]
  },
  {
   "cell_type": "code",
   "execution_count": 9,
   "metadata": {},
   "outputs": [],
   "source": [
    "# Default QA1 with 1000 samples\n",
    "# challenge = '../datasets/tasks_1-20_v1-2/en/qa1_single-supporting-fact_{}.txt'\n",
    "# QA1 with 10,000 samples\n",
    "challenge = '../datasets/tasks_1-20_v1-2/en-10k/qa1_single-supporting-fact_{}.txt'\n",
    "# QA2 with 1000 samples\n",
    "# challenge = '../datasets/tasks_1-20_v1-2/en/qa2_two-supporting-facts_{}.txt'\n",
    "# QA2 with 10,000 samples\n",
    "# challenge = '../datasets/tasks_1-20_v1-2/en-10k/qa2_two-supporting-facts_{}.txt'\n",
    "train = get_stories(open(challenge.format('train')))\n",
    "test = get_stories(open(challenge.format('test')))"
   ]
  },
  {
   "cell_type": "code",
   "execution_count": 10,
   "metadata": {},
   "outputs": [
    {
     "name": "stdout",
     "output_type": "stream",
     "text": [
      "vocab = ['.', '?', 'Daniel', 'John', 'Mary', 'Sandra', 'Where', 'back', 'bathroom', 'bedroom', 'garden', 'hallway', 'is', 'journeyed', 'kitchen', 'moved', 'office', 'the', 'to', 'travelled', 'went']\n",
      "x.shape = (10000, 68)\n",
      "xq.shape = (10000, 4)\n",
      "y.shape = (10000, 22)\n",
      "story_maxlen, query_maxlen = 68, 4\n"
     ]
    }
   ],
   "source": [
    "vocab = set()\n",
    "for story, q, answer in train + test:\n",
    "    vocab |= set(story + q + [answer])\n",
    "vocab = sorted(vocab)\n",
    "\n",
    "# Reserve 0 for masking via pad_sequences\n",
    "vocab_size = len(vocab) + 1\n",
    "word_idx = dict((c, i + 1) for i, c in enumerate(vocab))\n",
    "story_maxlen = max(map(len, (x for x, _, _ in train + test)))\n",
    "query_maxlen = max(map(len, (x for _, x, _ in train + test)))\n",
    "\n",
    "x, xq, y = vectorize_stories(train, word_idx, story_maxlen, query_maxlen)\n",
    "tx, txq, ty = vectorize_stories(test, word_idx, story_maxlen, query_maxlen)\n",
    "\n",
    "print('vocab = {}'.format(vocab))\n",
    "print('x.shape = {}'.format(x.shape))\n",
    "print('xq.shape = {}'.format(xq.shape))\n",
    "print('y.shape = {}'.format(y.shape))\n",
    "print('story_maxlen, query_maxlen = {}, {}'.format(story_maxlen, query_maxlen))"
   ]
  },
  {
   "cell_type": "code",
   "execution_count": 11,
   "metadata": {},
   "outputs": [
    {
     "name": "stdout",
     "output_type": "stream",
     "text": [
      "Build model...\n",
      "WARNING:tensorflow:From /home/sunxin/miniconda3/envs/qinhanmin-test/lib/python3.7/site-packages/tensorflow/python/framework/op_def_library.py:263: colocate_with (from tensorflow.python.framework.ops) is deprecated and will be removed in a future version.\n",
      "Instructions for updating:\n",
      "Colocations handled automatically by placer.\n"
     ]
    }
   ],
   "source": [
    "print('Build model...')\n",
    "\n",
    "sentence = layers.Input(shape=(story_maxlen,), dtype='int32')\n",
    "encoded_sentence = layers.Embedding(vocab_size, EMBED_HIDDEN_SIZE)(sentence)\n",
    "encoded_sentence = RNN(SENT_HIDDEN_SIZE)(encoded_sentence)\n",
    "\n",
    "question = layers.Input(shape=(query_maxlen,), dtype='int32')\n",
    "encoded_question = layers.Embedding(vocab_size, EMBED_HIDDEN_SIZE)(question)\n",
    "encoded_question = RNN(QUERY_HIDDEN_SIZE)(encoded_question)\n",
    "\n",
    "merged = layers.concatenate([encoded_sentence, encoded_question])\n",
    "preds = layers.Dense(vocab_size, activation='softmax')(merged)\n",
    "\n",
    "model = models.Model([sentence, question], preds)\n",
    "model.compile(optimizer='adam',\n",
    "              loss='categorical_crossentropy',\n",
    "              metrics=['accuracy'])"
   ]
  },
  {
   "cell_type": "code",
   "execution_count": 12,
   "metadata": {},
   "outputs": [
    {
     "name": "stdout",
     "output_type": "stream",
     "text": [
      "Training\n",
      "WARNING:tensorflow:From /home/sunxin/miniconda3/envs/qinhanmin-test/lib/python3.7/site-packages/tensorflow/python/ops/math_ops.py:3066: to_int32 (from tensorflow.python.ops.math_ops) is deprecated and will be removed in a future version.\n",
      "Instructions for updating:\n",
      "Use tf.cast instead.\n",
      "Train on 9500 samples, validate on 500 samples\n",
      "Epoch 1/20\n",
      "9500/9500 [==============================] - 5s 543us/step - loss: 1.8174 - acc: 0.2102 - val_loss: 1.6323 - val_acc: 0.3400\n",
      "Epoch 2/20\n",
      "9500/9500 [==============================] - 3s 311us/step - loss: 1.3857 - acc: 0.4935 - val_loss: 1.2691 - val_acc: 0.5080\n",
      "Epoch 3/20\n",
      "9500/9500 [==============================] - 3s 308us/step - loss: 1.1484 - acc: 0.5261 - val_loss: 1.2114 - val_acc: 0.5040\n",
      "Epoch 4/20\n",
      "9500/9500 [==============================] - 3s 314us/step - loss: 1.0833 - acc: 0.5303 - val_loss: 1.1428 - val_acc: 0.5160\n",
      "Epoch 5/20\n",
      "9500/9500 [==============================] - 3s 310us/step - loss: 1.0481 - acc: 0.5372 - val_loss: 1.1175 - val_acc: 0.4940\n",
      "Epoch 6/20\n",
      "9500/9500 [==============================] - 3s 310us/step - loss: 1.0304 - acc: 0.5385 - val_loss: 1.1036 - val_acc: 0.5220\n",
      "Epoch 7/20\n",
      "9500/9500 [==============================] - 3s 311us/step - loss: 1.0155 - acc: 0.5411 - val_loss: 1.0918 - val_acc: 0.4920\n",
      "Epoch 8/20\n",
      "9500/9500 [==============================] - 3s 307us/step - loss: 1.0052 - acc: 0.5413 - val_loss: 1.1000 - val_acc: 0.4760\n",
      "Epoch 9/20\n",
      "9500/9500 [==============================] - 3s 309us/step - loss: 0.9981 - acc: 0.5480 - val_loss: 1.0902 - val_acc: 0.5280\n",
      "Epoch 10/20\n",
      "9500/9500 [==============================] - 3s 309us/step - loss: 0.9918 - acc: 0.5486 - val_loss: 1.0988 - val_acc: 0.4900\n",
      "Epoch 11/20\n",
      "9500/9500 [==============================] - 3s 310us/step - loss: 0.9847 - acc: 0.5514 - val_loss: 1.0936 - val_acc: 0.5040\n",
      "Epoch 12/20\n",
      "9500/9500 [==============================] - 3s 311us/step - loss: 0.9771 - acc: 0.5471 - val_loss: 1.0974 - val_acc: 0.4980\n",
      "Epoch 13/20\n",
      "9500/9500 [==============================] - 3s 306us/step - loss: 0.9714 - acc: 0.5544 - val_loss: 1.1072 - val_acc: 0.4800\n",
      "Epoch 14/20\n",
      "9500/9500 [==============================] - 3s 311us/step - loss: 0.9624 - acc: 0.5567 - val_loss: 1.0999 - val_acc: 0.4660\n",
      "Epoch 15/20\n",
      "9500/9500 [==============================] - 3s 308us/step - loss: 0.9565 - acc: 0.5564 - val_loss: 1.1050 - val_acc: 0.4860\n",
      "Epoch 16/20\n",
      "9500/9500 [==============================] - 3s 310us/step - loss: 0.9515 - acc: 0.5624 - val_loss: 1.1231 - val_acc: 0.4840\n",
      "Epoch 17/20\n",
      "9500/9500 [==============================] - 3s 301us/step - loss: 0.9434 - acc: 0.5652 - val_loss: 1.1267 - val_acc: 0.4800\n",
      "Epoch 18/20\n",
      "9500/9500 [==============================] - 3s 297us/step - loss: 0.9336 - acc: 0.5709 - val_loss: 1.1084 - val_acc: 0.5040\n",
      "Epoch 19/20\n",
      "9500/9500 [==============================] - 3s 313us/step - loss: 0.9247 - acc: 0.5725 - val_loss: 1.1224 - val_acc: 0.4920\n",
      "Epoch 20/20\n",
      "9500/9500 [==============================] - 3s 308us/step - loss: 0.9144 - acc: 0.5795 - val_loss: 1.1212 - val_acc: 0.5020\n"
     ]
    },
    {
     "data": {
      "text/plain": [
       "<keras.callbacks.History at 0x7f086edc9da0>"
      ]
     },
     "execution_count": 12,
     "metadata": {},
     "output_type": "execute_result"
    }
   ],
   "source": [
    "print('Training')\n",
    "model.fit([x, xq], y,\n",
    "          batch_size=BATCH_SIZE,\n",
    "          epochs=EPOCHS,\n",
    "          validation_split=0.05)"
   ]
  },
  {
   "cell_type": "code",
   "execution_count": 13,
   "metadata": {},
   "outputs": [
    {
     "name": "stdout",
     "output_type": "stream",
     "text": [
      "Evaluation\n",
      "1000/1000 [==============================] - 0s 113us/step\n",
      "Test loss / test accuracy = 1.0786 / 0.5050\n"
     ]
    }
   ],
   "source": [
    "print('Evaluation')\n",
    "loss, acc = model.evaluate([tx, txq], ty,\n",
    "                           batch_size=BATCH_SIZE)\n",
    "print('Test loss / test accuracy = {:.4f} / {:.4f}'.format(loss, acc))"
   ]
  },
  {
   "cell_type": "code",
   "execution_count": 14,
   "metadata": {},
   "outputs": [],
   "source": [
    "### QA2"
   ]
  },
  {
   "cell_type": "code",
   "execution_count": 15,
   "metadata": {},
   "outputs": [],
   "source": [
    "# Default QA1 with 1000 samples\n",
    "# challenge = '../datasets/tasks_1-20_v1-2/en/qa1_single-supporting-fact_{}.txt'\n",
    "# QA1 with 10,000 samples\n",
    "# challenge = '../datasets/tasks_1-20_v1-2/en-10k/qa1_single-supporting-fact_{}.txt'\n",
    "# QA2 with 1000 samples\n",
    "# challenge = '../datasets/tasks_1-20_v1-2/en/qa2_two-supporting-facts_{}.txt'\n",
    "# QA2 with 10,000 samples\n",
    "challenge = '../datasets/tasks_1-20_v1-2/en-10k/qa2_two-supporting-facts_{}.txt'\n",
    "train = get_stories(open(challenge.format('train')))\n",
    "test = get_stories(open(challenge.format('test')))"
   ]
  },
  {
   "cell_type": "code",
   "execution_count": 16,
   "metadata": {},
   "outputs": [
    {
     "name": "stdout",
     "output_type": "stream",
     "text": [
      "vocab = ['.', '?', 'Daniel', 'John', 'Mary', 'Sandra', 'Where', 'apple', 'back', 'bathroom', 'bedroom', 'discarded', 'down', 'dropped', 'football', 'garden', 'got', 'grabbed', 'hallway', 'is', 'journeyed', 'kitchen', 'left', 'milk', 'moved', 'office', 'picked', 'put', 'the', 'there', 'to', 'took', 'travelled', 'up', 'went']\n",
      "x.shape = (10000, 552)\n",
      "xq.shape = (10000, 5)\n",
      "y.shape = (10000, 36)\n",
      "story_maxlen, query_maxlen = 552, 5\n"
     ]
    }
   ],
   "source": [
    "vocab = set()\n",
    "for story, q, answer in train + test:\n",
    "    vocab |= set(story + q + [answer])\n",
    "vocab = sorted(vocab)\n",
    "\n",
    "# Reserve 0 for masking via pad_sequences\n",
    "vocab_size = len(vocab) + 1\n",
    "word_idx = dict((c, i + 1) for i, c in enumerate(vocab))\n",
    "story_maxlen = max(map(len, (x for x, _, _ in train + test)))\n",
    "query_maxlen = max(map(len, (x for _, x, _ in train + test)))\n",
    "\n",
    "x, xq, y = vectorize_stories(train, word_idx, story_maxlen, query_maxlen)\n",
    "tx, txq, ty = vectorize_stories(test, word_idx, story_maxlen, query_maxlen)\n",
    "\n",
    "print('vocab = {}'.format(vocab))\n",
    "print('x.shape = {}'.format(x.shape))\n",
    "print('xq.shape = {}'.format(xq.shape))\n",
    "print('y.shape = {}'.format(y.shape))\n",
    "print('story_maxlen, query_maxlen = {}, {}'.format(story_maxlen, query_maxlen))"
   ]
  },
  {
   "cell_type": "code",
   "execution_count": 17,
   "metadata": {},
   "outputs": [
    {
     "name": "stdout",
     "output_type": "stream",
     "text": [
      "Build model...\n"
     ]
    }
   ],
   "source": [
    "print('Build model...')\n",
    "\n",
    "sentence = layers.Input(shape=(story_maxlen,), dtype='int32')\n",
    "encoded_sentence = layers.Embedding(vocab_size, EMBED_HIDDEN_SIZE)(sentence)\n",
    "encoded_sentence = RNN(SENT_HIDDEN_SIZE)(encoded_sentence)\n",
    "\n",
    "question = layers.Input(shape=(query_maxlen,), dtype='int32')\n",
    "encoded_question = layers.Embedding(vocab_size, EMBED_HIDDEN_SIZE)(question)\n",
    "encoded_question = RNN(QUERY_HIDDEN_SIZE)(encoded_question)\n",
    "\n",
    "merged = layers.concatenate([encoded_sentence, encoded_question])\n",
    "preds = layers.Dense(vocab_size, activation='softmax')(merged)\n",
    "\n",
    "model = models.Model([sentence, question], preds)\n",
    "model.compile(optimizer='adam',\n",
    "              loss='categorical_crossentropy',\n",
    "              metrics=['accuracy'])"
   ]
  },
  {
   "cell_type": "code",
   "execution_count": 18,
   "metadata": {},
   "outputs": [
    {
     "name": "stdout",
     "output_type": "stream",
     "text": [
      "Training\n",
      "Train on 9500 samples, validate on 500 samples\n",
      "Epoch 1/20\n",
      "9500/9500 [==============================] - 8s 841us/step - loss: 1.8802 - acc: 0.1652 - val_loss: 1.7913 - val_acc: 0.2260\n",
      "Epoch 2/20\n",
      "9500/9500 [==============================] - 7s 785us/step - loss: 1.8021 - acc: 0.1704 - val_loss: 1.7878 - val_acc: 0.1960\n",
      "Epoch 3/20\n",
      "9500/9500 [==============================] - 7s 782us/step - loss: 1.7633 - acc: 0.2416 - val_loss: 1.7251 - val_acc: 0.2920\n",
      "Epoch 4/20\n",
      "9500/9500 [==============================] - 7s 786us/step - loss: 1.5936 - acc: 0.3654 - val_loss: 1.5689 - val_acc: 0.3760\n",
      "Epoch 5/20\n",
      "9500/9500 [==============================] - 7s 783us/step - loss: 1.4784 - acc: 0.3948 - val_loss: 1.4709 - val_acc: 0.4100\n",
      "Epoch 6/20\n",
      "9500/9500 [==============================] - 8s 797us/step - loss: 1.4332 - acc: 0.4002 - val_loss: 1.3919 - val_acc: 0.4060\n",
      "Epoch 7/20\n",
      "9500/9500 [==============================] - 8s 792us/step - loss: 1.4028 - acc: 0.4068 - val_loss: 1.4442 - val_acc: 0.3700\n",
      "Epoch 8/20\n",
      "9500/9500 [==============================] - 7s 785us/step - loss: 1.3875 - acc: 0.4061 - val_loss: 1.4313 - val_acc: 0.3840\n",
      "Epoch 9/20\n",
      "9500/9500 [==============================] - 7s 786us/step - loss: 1.3686 - acc: 0.4120 - val_loss: 1.3971 - val_acc: 0.4120\n",
      "Epoch 10/20\n",
      "9500/9500 [==============================] - 7s 780us/step - loss: 1.3561 - acc: 0.4155 - val_loss: 1.3946 - val_acc: 0.4020\n",
      "Epoch 11/20\n",
      "9500/9500 [==============================] - 8s 791us/step - loss: 1.3355 - acc: 0.4237 - val_loss: 1.3569 - val_acc: 0.4120\n",
      "Epoch 12/20\n",
      "9500/9500 [==============================] - 7s 781us/step - loss: 1.3172 - acc: 0.4293 - val_loss: 1.3610 - val_acc: 0.4220\n",
      "Epoch 13/20\n",
      "9500/9500 [==============================] - 7s 789us/step - loss: 1.3001 - acc: 0.4389 - val_loss: 1.3516 - val_acc: 0.4220\n",
      "Epoch 14/20\n",
      "9500/9500 [==============================] - 7s 771us/step - loss: 1.2781 - acc: 0.4531 - val_loss: 1.3443 - val_acc: 0.4240\n",
      "Epoch 15/20\n",
      "9500/9500 [==============================] - 8s 790us/step - loss: 1.2500 - acc: 0.4682 - val_loss: 1.3456 - val_acc: 0.4280\n",
      "Epoch 16/20\n",
      "9500/9500 [==============================] - 7s 789us/step - loss: 1.2267 - acc: 0.4828 - val_loss: 1.3062 - val_acc: 0.4680\n",
      "Epoch 17/20\n",
      "9500/9500 [==============================] - 8s 793us/step - loss: 1.1940 - acc: 0.4909 - val_loss: 1.3337 - val_acc: 0.4560\n",
      "Epoch 18/20\n",
      "9500/9500 [==============================] - 7s 772us/step - loss: 1.1660 - acc: 0.5068 - val_loss: 1.3336 - val_acc: 0.4760\n",
      "Epoch 19/20\n",
      "9500/9500 [==============================] - 7s 779us/step - loss: 1.1414 - acc: 0.5228 - val_loss: 1.3486 - val_acc: 0.4580\n",
      "Epoch 20/20\n",
      "9500/9500 [==============================] - 7s 774us/step - loss: 1.1201 - acc: 0.5313 - val_loss: 1.3372 - val_acc: 0.4520\n"
     ]
    },
    {
     "data": {
      "text/plain": [
       "<keras.callbacks.History at 0x7f0851265cf8>"
      ]
     },
     "execution_count": 18,
     "metadata": {},
     "output_type": "execute_result"
    }
   ],
   "source": [
    "print('Training')\n",
    "model.fit([x, xq], y,\n",
    "          batch_size=BATCH_SIZE,\n",
    "          epochs=EPOCHS,\n",
    "          validation_split=0.05)"
   ]
  },
  {
   "cell_type": "code",
   "execution_count": 19,
   "metadata": {},
   "outputs": [
    {
     "name": "stdout",
     "output_type": "stream",
     "text": [
      "Evaluation\n",
      "1000/1000 [==============================] - 0s 324us/step\n",
      "Test loss / test accuracy = 1.3412 / 0.4070\n"
     ]
    }
   ],
   "source": [
    "print('Evaluation')\n",
    "loss, acc = model.evaluate([tx, txq], ty,\n",
    "                           batch_size=BATCH_SIZE)\n",
    "print('Test loss / test accuracy = {:.4f} / {:.4f}'.format(loss, acc))"
   ]
  }
 ],
 "metadata": {
  "kernelspec": {
   "display_name": "qinhanmin-test",
   "language": "python",
   "name": "qinhanmin-test"
  },
  "language_info": {
   "codemirror_mode": {
    "name": "ipython",
    "version": 3
   },
   "file_extension": ".py",
   "mimetype": "text/x-python",
   "name": "python",
   "nbconvert_exporter": "python",
   "pygments_lexer": "ipython3",
   "version": "3.7.3"
  }
 },
 "nbformat": 4,
 "nbformat_minor": 2
}
