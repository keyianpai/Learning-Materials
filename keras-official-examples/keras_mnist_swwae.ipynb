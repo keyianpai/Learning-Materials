{
 "cells": [
  {
   "cell_type": "raw",
   "metadata": {},
   "source": [
    "Trains a stacked what-where autoencoder built on residual blocks on the\n",
    "MNIST dataset. It exemplifies two influential methods that have been developed\n",
    "in the past few years.\n",
    "\n",
    "The first is the idea of properly 'unpooling.' During any max pool, the\n",
    "exact location (the 'where') of the maximal value in a pooled receptive field\n",
    "is lost, however it can be very useful in the overall reconstruction of an\n",
    "input image. Therefore, if the 'where' is handed from the encoder\n",
    "to the corresponding decoder layer, features being decoded can be 'placed' in\n",
    "the right location, allowing for reconstructions of much higher fidelity.\n",
    "\n",
    "# References\n",
    "\n",
    "- Visualizing and Understanding Convolutional Networks\n",
    "  Matthew D Zeiler, Rob Fergus\n",
    "  https://arxiv.org/abs/1311.2901v3\n",
    "- Stacked What-Where Auto-encoders\n",
    "  Junbo Zhao, Michael Mathieu, Ross Goroshin, Yann LeCun\n",
    "  https://arxiv.org/abs/1506.02351v8\n",
    "\n",
    "The second idea exploited here is that of residual learning. Residual blocks\n",
    "ease the training process by allowing skip connections that give the network\n",
    "the ability to be as linear (or non-linear) as the data sees fit.  This allows\n",
    "for much deep networks to be easily trained. The residual element seems to\n",
    "be advantageous in the context of this example as it allows a nice symmetry\n",
    "between the encoder and decoder. Normally, in the decoder, the final\n",
    "projection to the space where the image is reconstructed is linear, however\n",
    "this does not have to be the case for a residual block as the degree to which\n",
    "its output is linear or non-linear is determined by the data it is fed.\n",
    "However, in order to cap the reconstruction in this example, a hard softmax is\n",
    "applied as a bias because we know the MNIST digits are mapped to [0, 1].\n",
    "\n",
    "# References\n",
    "- Deep Residual Learning for Image Recognition\n",
    "  Kaiming He, Xiangyu Zhang, Shaoqing Ren, Jian Sun\n",
    "  https://arxiv.org/abs/1512.03385v1\n",
    "- Identity Mappings in Deep Residual Networks\n",
    "  Kaiming He, Xiangyu Zhang, Shaoqing Ren, Jian Sun\n",
    "  https://arxiv.org/abs/1603.05027v3"
   ]
  },
  {
   "cell_type": "code",
   "execution_count": 1,
   "metadata": {},
   "outputs": [
    {
     "name": "stderr",
     "output_type": "stream",
     "text": [
      "/home/sunxin/miniconda3/envs/qinhanmin-test/lib/python3.7/site-packages/tensorflow/python/framework/dtypes.py:526: FutureWarning: Passing (type, 1) or '1type' as a synonym of type is deprecated; in a future version of numpy, it will be understood as (type, (1,)) / '(1,)type'.\n",
      "  _np_qint8 = np.dtype([(\"qint8\", np.int8, 1)])\n",
      "/home/sunxin/miniconda3/envs/qinhanmin-test/lib/python3.7/site-packages/tensorflow/python/framework/dtypes.py:527: FutureWarning: Passing (type, 1) or '1type' as a synonym of type is deprecated; in a future version of numpy, it will be understood as (type, (1,)) / '(1,)type'.\n",
      "  _np_quint8 = np.dtype([(\"quint8\", np.uint8, 1)])\n",
      "/home/sunxin/miniconda3/envs/qinhanmin-test/lib/python3.7/site-packages/tensorflow/python/framework/dtypes.py:528: FutureWarning: Passing (type, 1) or '1type' as a synonym of type is deprecated; in a future version of numpy, it will be understood as (type, (1,)) / '(1,)type'.\n",
      "  _np_qint16 = np.dtype([(\"qint16\", np.int16, 1)])\n",
      "/home/sunxin/miniconda3/envs/qinhanmin-test/lib/python3.7/site-packages/tensorflow/python/framework/dtypes.py:529: FutureWarning: Passing (type, 1) or '1type' as a synonym of type is deprecated; in a future version of numpy, it will be understood as (type, (1,)) / '(1,)type'.\n",
      "  _np_quint16 = np.dtype([(\"quint16\", np.uint16, 1)])\n",
      "/home/sunxin/miniconda3/envs/qinhanmin-test/lib/python3.7/site-packages/tensorflow/python/framework/dtypes.py:530: FutureWarning: Passing (type, 1) or '1type' as a synonym of type is deprecated; in a future version of numpy, it will be understood as (type, (1,)) / '(1,)type'.\n",
      "  _np_qint32 = np.dtype([(\"qint32\", np.int32, 1)])\n",
      "/home/sunxin/miniconda3/envs/qinhanmin-test/lib/python3.7/site-packages/tensorflow/python/framework/dtypes.py:535: FutureWarning: Passing (type, 1) or '1type' as a synonym of type is deprecated; in a future version of numpy, it will be understood as (type, (1,)) / '(1,)type'.\n",
      "  np_resource = np.dtype([(\"resource\", np.ubyte, 1)])\n"
     ]
    },
    {
     "name": "stdout",
     "output_type": "stream",
     "text": [
      "1.13.2\n",
      "2.2.4\n"
     ]
    },
    {
     "name": "stderr",
     "output_type": "stream",
     "text": [
      "Using TensorFlow backend.\n"
     ]
    }
   ],
   "source": [
    "import os\n",
    "os.environ[\"CUDA_VISIBLE_DEVICES\"] = \"3\"\n",
    "import tensorflow as tf\n",
    "print(tf.__version__)\n",
    "import keras\n",
    "print(keras.__version__)"
   ]
  },
  {
   "cell_type": "code",
   "execution_count": 2,
   "metadata": {},
   "outputs": [],
   "source": [
    "import numpy as np\n",
    "from keras.datasets import mnist\n",
    "from keras import models\n",
    "from keras import layers\n",
    "import keras.backend as K\n",
    "import matplotlib.pyplot as plt\n",
    "%matplotlib inline"
   ]
  },
  {
   "cell_type": "code",
   "execution_count": 3,
   "metadata": {},
   "outputs": [],
   "source": [
    "def convresblock(x, nfeats=8, ksize=3, nskipped=2, elu=True):\n",
    "    \"\"\"The proposed residual block from [4].\n",
    "\n",
    "    Running with elu=True will use ELU nonlinearity and running with\n",
    "    elu=False will use BatchNorm + RELU nonlinearity.  While ELU's are fast\n",
    "    due to the fact they do not suffer from BatchNorm overhead, they may\n",
    "    overfit because they do not offer the stochastic element of the batch\n",
    "    formation process of BatchNorm, which acts as a good regularizer.\n",
    "\n",
    "    # Arguments\n",
    "        x: 4D tensor, the tensor to feed through the block\n",
    "        nfeats: Integer, number of feature maps for conv layers.\n",
    "        ksize: Integer, width and height of conv kernels in first convolution.\n",
    "        nskipped: Integer, number of conv layers for the residual function.\n",
    "        elu: Boolean, whether to use ELU or BN+RELU.\n",
    "\n",
    "    # Input shape\n",
    "        4D tensor with shape:\n",
    "        `(batch, channels, rows, cols)`\n",
    "\n",
    "    # Output shape\n",
    "        4D tensor with shape:\n",
    "        `(batch, filters, rows, cols)`\n",
    "    \"\"\"\n",
    "    y0 = layers.Conv2D(nfeats, ksize, padding='same')(x)\n",
    "    y = y0\n",
    "    for i in range(nskipped):\n",
    "        if elu:\n",
    "            y = layers.ELU()(y)\n",
    "        else:\n",
    "            y = layers.BatchNormalization(axis=1)(y)\n",
    "            y = layers.Activation('relu')(y)\n",
    "        y = layers.Conv2D(nfeats, 1, padding='same')(y)\n",
    "    return layers.add([y0, y])"
   ]
  },
  {
   "cell_type": "code",
   "execution_count": 4,
   "metadata": {},
   "outputs": [],
   "source": [
    "def getwhere(x):\n",
    "    ''' Calculate the 'where' mask that contains switches indicating which\n",
    "    index contained the max value when MaxPool2D was applied.  Using the\n",
    "    gradient of the sum is a nice trick to keep everything high level.'''\n",
    "    y_prepool, y_postpool = x\n",
    "    return K.gradients(K.sum(y_postpool), y_prepool)"
   ]
  },
  {
   "cell_type": "code",
   "execution_count": 5,
   "metadata": {},
   "outputs": [
    {
     "name": "stdout",
     "output_type": "stream",
     "text": [
      "x_train shape: (60000, 1, 28, 28)\n",
      "60000 train samples\n",
      "10000 test samples\n"
     ]
    }
   ],
   "source": [
    "# This example assume 'channels_first' data format.\n",
    "K.set_image_data_format('channels_first')\n",
    "\n",
    "# input image dimensions\n",
    "img_rows, img_cols = 28, 28\n",
    "\n",
    "# the data, split between train and test sets\n",
    "(x_train, _), (x_test, _) = mnist.load_data()\n",
    "\n",
    "x_train = x_train.reshape(x_train.shape[0], 1, img_rows, img_cols)\n",
    "x_test = x_test.reshape(x_test.shape[0], 1, img_rows, img_cols)\n",
    "x_train = x_train.astype('float32')\n",
    "x_test = x_test.astype('float32')\n",
    "x_train /= 255\n",
    "x_test /= 255\n",
    "print('x_train shape:', x_train.shape)\n",
    "print(x_train.shape[0], 'train samples')\n",
    "print(x_test.shape[0], 'test samples')"
   ]
  },
  {
   "cell_type": "code",
   "execution_count": 6,
   "metadata": {},
   "outputs": [],
   "source": [
    "# The size of the kernel used for the MaxPooling2D\n",
    "pool_size = 2\n",
    "# The total number of feature maps at each layer\n",
    "nfeats = [8, 16, 32, 64, 128]\n",
    "# The sizes of the pooling kernel at each layer\n",
    "pool_sizes = np.array([1, 1, 1, 1, 1]) * pool_size\n",
    "# The convolution kernel size\n",
    "ksize = 3\n",
    "# Number of epochs to train for\n",
    "epochs = 5\n",
    "# Batch size during training\n",
    "batch_size = 128\n",
    "\n",
    "if pool_size == 2:\n",
    "    # if using a 5 layer net of pool_size = 2\n",
    "    x_train = np.pad(x_train, [[0, 0], [0, 0], [2, 2], [2, 2]],\n",
    "                     mode='constant')\n",
    "    x_test = np.pad(x_test, [[0, 0], [0, 0], [2, 2], [2, 2]], mode='constant')\n",
    "    nlayers = 5\n",
    "# elif pool_size == 3:\n",
    "#     # if using a 3 layer net of pool_size = 3\n",
    "#     x_train = x_train[:, :, :-1, :-1]\n",
    "#     x_test = x_test[:, :, :-1, :-1]\n",
    "#     nlayers = 3\n",
    "# else:\n",
    "#     import sys\n",
    "#     sys.exit('Script supports pool_size of 2 and 3.')"
   ]
  },
  {
   "cell_type": "code",
   "execution_count": 7,
   "metadata": {},
   "outputs": [
    {
     "name": "stdout",
     "output_type": "stream",
     "text": [
      "WARNING:tensorflow:From /home/sunxin/miniconda3/envs/qinhanmin-test/lib/python3.7/site-packages/tensorflow/python/framework/op_def_library.py:263: colocate_with (from tensorflow.python.framework.ops) is deprecated and will be removed in a future version.\n",
      "Instructions for updating:\n",
      "Colocations handled automatically by placer.\n"
     ]
    }
   ],
   "source": [
    "# Shape of input to train on (note that model is fully convolutional however)\n",
    "input_shape = x_train.shape[1:]\n",
    "# The final list of the size of axis=1 for all layers, including input\n",
    "nfeats_all = [input_shape[0]] + nfeats\n",
    "\n",
    "# First build the encoder, all the while keeping track of the 'where' masks\n",
    "img_input = layers.Input(shape=input_shape)\n",
    "\n",
    "# We push the 'where' masks to the following list\n",
    "wheres = [None] * nlayers\n",
    "y = img_input\n",
    "for i in range(nlayers):\n",
    "    y_prepool = convresblock(y, nfeats=nfeats_all[i + 1], ksize=ksize)\n",
    "    y = layers.MaxPooling2D(pool_size=(pool_sizes[i], pool_sizes[i]))(y_prepool)\n",
    "    wheres[i] = layers.Lambda(\n",
    "        getwhere, output_shape=lambda x: x[0])([y_prepool, y])\n",
    "\n",
    "# Now build the decoder, and use the stored 'where' masks to place the features\n",
    "for i in range(nlayers):\n",
    "    ind = nlayers - 1 - i\n",
    "    y = layers.UpSampling2D(size=(pool_sizes[ind], pool_sizes[ind]))(y)\n",
    "    y = layers.multiply([y, wheres[ind]])\n",
    "    y = convresblock(y, nfeats=nfeats_all[ind], ksize=ksize)\n",
    "\n",
    "# Use hard_simgoid to clip range of reconstruction\n",
    "y = layers.Activation('hard_sigmoid')(y)\n",
    "\n",
    "# Define the model and it's mean square error loss, and compile it with Adam\n",
    "model = models.Model(img_input, y)\n",
    "model.compile('adam', 'mse')"
   ]
  },
  {
   "cell_type": "code",
   "execution_count": 8,
   "metadata": {},
   "outputs": [
    {
     "name": "stdout",
     "output_type": "stream",
     "text": [
      "WARNING:tensorflow:From /home/sunxin/miniconda3/envs/qinhanmin-test/lib/python3.7/site-packages/tensorflow/python/ops/math_ops.py:3066: to_int32 (from tensorflow.python.ops.math_ops) is deprecated and will be removed in a future version.\n",
      "Instructions for updating:\n",
      "Use tf.cast instead.\n",
      "Train on 60000 samples, validate on 10000 samples\n",
      "Epoch 1/5\n",
      "60000/60000 [==============================] - 12s 200us/step - loss: 0.0221 - val_loss: 0.0060\n",
      "Epoch 2/5\n",
      "60000/60000 [==============================] - 9s 158us/step - loss: 0.0046 - val_loss: 0.0037\n",
      "Epoch 3/5\n",
      "60000/60000 [==============================] - 10s 159us/step - loss: 0.0033 - val_loss: 0.0029\n",
      "Epoch 4/5\n",
      "60000/60000 [==============================] - 10s 159us/step - loss: 0.0028 - val_loss: 0.0026\n",
      "Epoch 5/5\n",
      "60000/60000 [==============================] - 10s 159us/step - loss: 0.0025 - val_loss: 0.0023\n"
     ]
    },
    {
     "data": {
      "text/plain": [
       "<keras.callbacks.History at 0x7ff320c15ba8>"
      ]
     },
     "execution_count": 8,
     "metadata": {},
     "output_type": "execute_result"
    }
   ],
   "source": [
    "# Fit the model\n",
    "model.fit(x_train, x_train,\n",
    "          batch_size=batch_size,\n",
    "          epochs=epochs,\n",
    "          validation_data=(x_test, x_test))"
   ]
  },
  {
   "cell_type": "code",
   "execution_count": 9,
   "metadata": {},
   "outputs": [
    {
     "data": {
      "image/png": "[encoded data removed]",
      "text/plain": [
       "<Figure size 432x288 with 1 Axes>"
      ]
     },
     "metadata": {
      "needs_background": "light"
     },
     "output_type": "display_data"
    }
   ],
   "source": [
    "# Plot\n",
    "x_recon = model.predict(x_test[:25])\n",
    "x_plot = np.concatenate((x_test[:25], x_recon), axis=1)\n",
    "x_plot = x_plot.reshape((5, 10, input_shape[-2], input_shape[-1]))\n",
    "x_plot = np.vstack([np.hstack(x) for x in x_plot])\n",
    "plt.figure()\n",
    "plt.axis('off')\n",
    "plt.title('Test Samples: Originals/Reconstructions')\n",
    "plt.imshow(x_plot, interpolation='none', cmap='gray')\n",
    "plt.savefig('reconstructions.png')"
   ]
  }
 ],
 "metadata": {
  "kernelspec": {
   "display_name": "qinhanmin-test",
   "language": "python",
   "name": "qinhanmin-test"
  },
  "language_info": {
   "codemirror_mode": {
    "name": "ipython",
    "version": 3
   },
   "file_extension": ".py",
   "mimetype": "text/x-python",
   "name": "python",
   "nbconvert_exporter": "python",
   "pygments_lexer": "ipython3",
   "version": "3.7.3"
  }
 },
 "nbformat": 4,
 "nbformat_minor": 2
}
