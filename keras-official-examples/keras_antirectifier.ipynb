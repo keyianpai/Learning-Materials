{
 "cells": [
  {
   "cell_type": "raw",
   "metadata": {},
   "source": [
    "This example demonstrates how to write custom layers for Keras.\n",
    "\n",
    "We build a custom activation layer called 'Antirectifier',\n",
    "which modifies the shape of the tensor that passes through it.\n",
    "We need to specify two methods: `compute_output_shape` and `call`.\n",
    "\n",
    "Note that the same result can also be achieved via a Lambda layer.\n",
    "\n",
    "Because our custom layer is written with primitives from the Keras\n",
    "backend (`K`), our code can run both on TensorFlow and Theano."
   ]
  },
  {
   "cell_type": "code",
   "execution_count": 1,
   "metadata": {},
   "outputs": [
    {
     "name": "stderr",
     "output_type": "stream",
     "text": [
      "/home/sunxin/miniconda3/envs/qinhanmin-test/lib/python3.7/site-packages/tensorflow/python/framework/dtypes.py:526: FutureWarning: Passing (type, 1) or '1type' as a synonym of type is deprecated; in a future version of numpy, it will be understood as (type, (1,)) / '(1,)type'.\n",
      "  _np_qint8 = np.dtype([(\"qint8\", np.int8, 1)])\n",
      "/home/sunxin/miniconda3/envs/qinhanmin-test/lib/python3.7/site-packages/tensorflow/python/framework/dtypes.py:527: FutureWarning: Passing (type, 1) or '1type' as a synonym of type is deprecated; in a future version of numpy, it will be understood as (type, (1,)) / '(1,)type'.\n",
      "  _np_quint8 = np.dtype([(\"quint8\", np.uint8, 1)])\n",
      "/home/sunxin/miniconda3/envs/qinhanmin-test/lib/python3.7/site-packages/tensorflow/python/framework/dtypes.py:528: FutureWarning: Passing (type, 1) or '1type' as a synonym of type is deprecated; in a future version of numpy, it will be understood as (type, (1,)) / '(1,)type'.\n",
      "  _np_qint16 = np.dtype([(\"qint16\", np.int16, 1)])\n",
      "/home/sunxin/miniconda3/envs/qinhanmin-test/lib/python3.7/site-packages/tensorflow/python/framework/dtypes.py:529: FutureWarning: Passing (type, 1) or '1type' as a synonym of type is deprecated; in a future version of numpy, it will be understood as (type, (1,)) / '(1,)type'.\n",
      "  _np_quint16 = np.dtype([(\"quint16\", np.uint16, 1)])\n",
      "/home/sunxin/miniconda3/envs/qinhanmin-test/lib/python3.7/site-packages/tensorflow/python/framework/dtypes.py:530: FutureWarning: Passing (type, 1) or '1type' as a synonym of type is deprecated; in a future version of numpy, it will be understood as (type, (1,)) / '(1,)type'.\n",
      "  _np_qint32 = np.dtype([(\"qint32\", np.int32, 1)])\n",
      "/home/sunxin/miniconda3/envs/qinhanmin-test/lib/python3.7/site-packages/tensorflow/python/framework/dtypes.py:535: FutureWarning: Passing (type, 1) or '1type' as a synonym of type is deprecated; in a future version of numpy, it will be understood as (type, (1,)) / '(1,)type'.\n",
      "  np_resource = np.dtype([(\"resource\", np.ubyte, 1)])\n"
     ]
    },
    {
     "name": "stdout",
     "output_type": "stream",
     "text": [
      "1.13.2\n",
      "2.2.4\n"
     ]
    },
    {
     "name": "stderr",
     "output_type": "stream",
     "text": [
      "Using TensorFlow backend.\n"
     ]
    }
   ],
   "source": [
    "import os\n",
    "os.environ[\"CUDA_VISIBLE_DEVICES\"] = \"2\"\n",
    "import tensorflow as tf\n",
    "print(tf.__version__)\n",
    "import keras\n",
    "print(keras.__version__)"
   ]
  },
  {
   "cell_type": "code",
   "execution_count": 2,
   "metadata": {},
   "outputs": [],
   "source": [
    "import keras\n",
    "from keras.datasets import mnist\n",
    "from keras import models\n",
    "from keras import layers\n",
    "from keras import backend as K"
   ]
  },
  {
   "cell_type": "code",
   "execution_count": 3,
   "metadata": {},
   "outputs": [],
   "source": [
    "class Antirectifier(layers.Layer):\n",
    "    '''This is the combination of a sample-wise\n",
    "    L2 normalization with the concatenation of the\n",
    "    positive part of the input with the negative part\n",
    "    of the input. The result is a tensor of samples that are\n",
    "    twice as large as the input samples.\n",
    "    It can be used in place of a ReLU.\n",
    "    # Input shape\n",
    "        2D tensor of shape (samples, n)\n",
    "    # Output shape\n",
    "        2D tensor of shape (samples, 2*n)\n",
    "    # Theoretical justification\n",
    "        When applying ReLU, assuming that the distribution\n",
    "        of the previous output is approximately centered around 0.,\n",
    "        you are discarding half of your input. This is inefficient.\n",
    "        Antirectifier allows to return all-positive outputs like ReLU,\n",
    "        without discarding any data.\n",
    "        Tests on MNIST show that Antirectifier allows to train networks\n",
    "        with twice less parameters yet with comparable\n",
    "        classification accuracy as an equivalent ReLU-based network.\n",
    "    '''\n",
    "\n",
    "    def compute_output_shape(self, input_shape):\n",
    "        shape = list(input_shape)\n",
    "        assert len(shape) == 2  # only valid for 2D tensors\n",
    "        shape[-1] *= 2\n",
    "        return tuple(shape)\n",
    "\n",
    "    def call(self, inputs):\n",
    "        inputs -= K.mean(inputs, axis=1, keepdims=True)\n",
    "        inputs = K.l2_normalize(inputs, axis=1)\n",
    "        pos = K.relu(inputs)\n",
    "        neg = K.relu(-inputs)\n",
    "        return K.concatenate([pos, neg], axis=1)"
   ]
  },
  {
   "cell_type": "code",
   "execution_count": 4,
   "metadata": {},
   "outputs": [
    {
     "name": "stdout",
     "output_type": "stream",
     "text": [
      "60000 train samples\n",
      "10000 test samples\n"
     ]
    }
   ],
   "source": [
    "# global parameters\n",
    "batch_size = 128\n",
    "num_classes = 10\n",
    "epochs = 40\n",
    "\n",
    "# the data, split between train and test sets\n",
    "(x_train, y_train), (x_test, y_test) = mnist.load_data()\n",
    "\n",
    "x_train = x_train.reshape(60000, 784)\n",
    "x_test = x_test.reshape(10000, 784)\n",
    "x_train = x_train.astype('float32')\n",
    "x_test = x_test.astype('float32')\n",
    "x_train /= 255\n",
    "x_test /= 255\n",
    "print(x_train.shape[0], 'train samples')\n",
    "print(x_test.shape[0], 'test samples')\n",
    "\n",
    "# convert class vectors to binary class matrices\n",
    "y_train = keras.utils.to_categorical(y_train, num_classes)\n",
    "y_test = keras.utils.to_categorical(y_test, num_classes)"
   ]
  },
  {
   "cell_type": "code",
   "execution_count": 5,
   "metadata": {},
   "outputs": [
    {
     "name": "stdout",
     "output_type": "stream",
     "text": [
      "WARNING:tensorflow:From /home/sunxin/miniconda3/envs/qinhanmin-test/lib/python3.7/site-packages/tensorflow/python/framework/op_def_library.py:263: colocate_with (from tensorflow.python.framework.ops) is deprecated and will be removed in a future version.\n",
      "Instructions for updating:\n",
      "Colocations handled automatically by placer.\n",
      "WARNING:tensorflow:From /home/sunxin/miniconda3/envs/qinhanmin-test/lib/python3.7/site-packages/keras/backend/tensorflow_backend.py:3445: calling dropout (from tensorflow.python.ops.nn_ops) with keep_prob is deprecated and will be removed in a future version.\n",
      "Instructions for updating:\n",
      "Please use `rate` instead of `keep_prob`. Rate should be set to `rate = 1 - keep_prob`.\n",
      "_________________________________________________________________\n",
      "Layer (type)                 Output Shape              Param #   \n",
      "=================================================================\n",
      "dense_1 (Dense)              (None, 256)               200960    \n",
      "_________________________________________________________________\n",
      "antirectifier_1 (Antirectifi (None, 512)               0         \n",
      "_________________________________________________________________\n",
      "dropout_1 (Dropout)          (None, 512)               0         \n",
      "_________________________________________________________________\n",
      "dense_2 (Dense)              (None, 256)               131328    \n",
      "_________________________________________________________________\n",
      "antirectifier_2 (Antirectifi (None, 512)               0         \n",
      "_________________________________________________________________\n",
      "dropout_2 (Dropout)          (None, 512)               0         \n",
      "_________________________________________________________________\n",
      "dense_3 (Dense)              (None, 10)                5130      \n",
      "_________________________________________________________________\n",
      "activation_1 (Activation)    (None, 10)                0         \n",
      "=================================================================\n",
      "Total params: 337,418\n",
      "Trainable params: 337,418\n",
      "Non-trainable params: 0\n",
      "_________________________________________________________________\n"
     ]
    }
   ],
   "source": [
    "# build the model\n",
    "model = models.Sequential()\n",
    "model.add(layers.Dense(256, input_shape=(784,)))\n",
    "model.add(Antirectifier())\n",
    "model.add(layers.Dropout(0.1))\n",
    "model.add(layers.Dense(256))\n",
    "model.add(Antirectifier())\n",
    "model.add(layers.Dropout(0.1))\n",
    "model.add(layers.Dense(num_classes))\n",
    "model.add(layers.Activation('softmax'))\n",
    "model.summary()\n",
    "\n",
    "# compile the model\n",
    "model.compile(loss='categorical_crossentropy',\n",
    "              optimizer='rmsprop',\n",
    "              metrics=['accuracy'])"
   ]
  },
  {
   "cell_type": "code",
   "execution_count": 6,
   "metadata": {},
   "outputs": [
    {
     "name": "stdout",
     "output_type": "stream",
     "text": [
      "WARNING:tensorflow:From /home/sunxin/miniconda3/envs/qinhanmin-test/lib/python3.7/site-packages/tensorflow/python/ops/math_ops.py:3066: to_int32 (from tensorflow.python.ops.math_ops) is deprecated and will be removed in a future version.\n",
      "Instructions for updating:\n",
      "Use tf.cast instead.\n",
      "Train on 60000 samples, validate on 10000 samples\n",
      "Epoch 1/40\n",
      "60000/60000 [==============================] - 4s 63us/step - loss: 0.6074 - acc: 0.9121 - val_loss: 0.1570 - val_acc: 0.9601\n",
      "Epoch 2/40\n",
      "60000/60000 [==============================] - 3s 43us/step - loss: 0.1258 - acc: 0.9657 - val_loss: 0.0991 - val_acc: 0.9704\n",
      "Epoch 3/40\n",
      "60000/60000 [==============================] - 3s 43us/step - loss: 0.0830 - acc: 0.9756 - val_loss: 0.0786 - val_acc: 0.9755\n",
      "Epoch 4/40\n",
      "60000/60000 [==============================] - 3s 43us/step - loss: 0.0621 - acc: 0.9814 - val_loss: 0.0734 - val_acc: 0.9772\n",
      "Epoch 5/40\n",
      "60000/60000 [==============================] - 3s 43us/step - loss: 0.0506 - acc: 0.9849 - val_loss: 0.0705 - val_acc: 0.9774\n",
      "Epoch 6/40\n",
      "60000/60000 [==============================] - 3s 43us/step - loss: 0.0418 - acc: 0.9872 - val_loss: 0.0682 - val_acc: 0.9775\n",
      "Epoch 7/40\n",
      "60000/60000 [==============================] - 3s 43us/step - loss: 0.0364 - acc: 0.9888 - val_loss: 0.0737 - val_acc: 0.9759\n",
      "Epoch 8/40\n",
      "60000/60000 [==============================] - 3s 44us/step - loss: 0.0316 - acc: 0.9904 - val_loss: 0.0628 - val_acc: 0.9819\n",
      "Epoch 9/40\n",
      "60000/60000 [==============================] - 3s 43us/step - loss: 0.0279 - acc: 0.9916 - val_loss: 0.0637 - val_acc: 0.9815\n",
      "Epoch 10/40\n",
      "60000/60000 [==============================] - 3s 43us/step - loss: 0.0246 - acc: 0.9920 - val_loss: 0.0670 - val_acc: 0.9802\n",
      "Epoch 11/40\n",
      "60000/60000 [==============================] - 3s 43us/step - loss: 0.0216 - acc: 0.9932 - val_loss: 0.0647 - val_acc: 0.9816\n",
      "Epoch 12/40\n",
      "60000/60000 [==============================] - 3s 43us/step - loss: 0.0192 - acc: 0.9939 - val_loss: 0.0702 - val_acc: 0.9809\n",
      "Epoch 13/40\n",
      "60000/60000 [==============================] - 3s 43us/step - loss: 0.0174 - acc: 0.9944 - val_loss: 0.0687 - val_acc: 0.9804\n",
      "Epoch 14/40\n",
      "60000/60000 [==============================] - 3s 43us/step - loss: 0.0155 - acc: 0.9949 - val_loss: 0.0705 - val_acc: 0.9808\n",
      "Epoch 15/40\n",
      "60000/60000 [==============================] - 3s 43us/step - loss: 0.0147 - acc: 0.9953 - val_loss: 0.0790 - val_acc: 0.9782\n",
      "Epoch 16/40\n",
      "60000/60000 [==============================] - 3s 43us/step - loss: 0.0131 - acc: 0.9957 - val_loss: 0.0695 - val_acc: 0.9819\n",
      "Epoch 17/40\n",
      "60000/60000 [==============================] - 3s 44us/step - loss: 0.0122 - acc: 0.9961 - val_loss: 0.0632 - val_acc: 0.9826\n",
      "Epoch 18/40\n",
      "60000/60000 [==============================] - 3s 44us/step - loss: 0.0116 - acc: 0.9964 - val_loss: 0.0622 - val_acc: 0.9823\n",
      "Epoch 19/40\n",
      "60000/60000 [==============================] - 3s 44us/step - loss: 0.0107 - acc: 0.9966 - val_loss: 0.0848 - val_acc: 0.9786\n",
      "Epoch 20/40\n",
      "60000/60000 [==============================] - 3s 44us/step - loss: 0.0106 - acc: 0.9967 - val_loss: 0.0678 - val_acc: 0.9824\n",
      "Epoch 21/40\n",
      "60000/60000 [==============================] - 3s 43us/step - loss: 0.0094 - acc: 0.9970 - val_loss: 0.0740 - val_acc: 0.9804\n",
      "Epoch 22/40\n",
      "60000/60000 [==============================] - 3s 43us/step - loss: 0.0087 - acc: 0.9972 - val_loss: 0.0730 - val_acc: 0.9814\n",
      "Epoch 23/40\n",
      "60000/60000 [==============================] - 3s 43us/step - loss: 0.0096 - acc: 0.9966 - val_loss: 0.0593 - val_acc: 0.9844\n",
      "Epoch 24/40\n",
      "60000/60000 [==============================] - 3s 43us/step - loss: 0.0075 - acc: 0.9977 - val_loss: 0.0769 - val_acc: 0.9810\n",
      "Epoch 25/40\n",
      "60000/60000 [==============================] - 3s 43us/step - loss: 0.0070 - acc: 0.9977 - val_loss: 0.0669 - val_acc: 0.9850\n",
      "Epoch 26/40\n",
      "60000/60000 [==============================] - 3s 43us/step - loss: 0.0067 - acc: 0.9979 - val_loss: 0.0697 - val_acc: 0.9846\n",
      "Epoch 27/40\n",
      "60000/60000 [==============================] - 3s 44us/step - loss: 0.0067 - acc: 0.9978 - val_loss: 0.0832 - val_acc: 0.9808\n",
      "Epoch 28/40\n",
      "60000/60000 [==============================] - 3s 43us/step - loss: 0.0065 - acc: 0.9978 - val_loss: 0.0748 - val_acc: 0.9833\n",
      "Epoch 29/40\n",
      "60000/60000 [==============================] - 3s 43us/step - loss: 0.0061 - acc: 0.9980 - val_loss: 0.0708 - val_acc: 0.9831\n",
      "Epoch 30/40\n",
      "60000/60000 [==============================] - 3s 44us/step - loss: 0.0063 - acc: 0.9980 - val_loss: 0.0755 - val_acc: 0.9825\n",
      "Epoch 31/40\n",
      "60000/60000 [==============================] - 3s 43us/step - loss: 0.0058 - acc: 0.9982 - val_loss: 0.0774 - val_acc: 0.9821\n",
      "Epoch 32/40\n",
      "60000/60000 [==============================] - 3s 44us/step - loss: 0.0057 - acc: 0.9980 - val_loss: 0.0804 - val_acc: 0.9826\n",
      "Epoch 33/40\n",
      "60000/60000 [==============================] - 3s 43us/step - loss: 0.0059 - acc: 0.9980 - val_loss: 0.0708 - val_acc: 0.9819\n",
      "Epoch 34/40\n",
      "60000/60000 [==============================] - 3s 43us/step - loss: 0.0055 - acc: 0.9980 - val_loss: 0.0774 - val_acc: 0.9835\n",
      "Epoch 35/40\n",
      "60000/60000 [==============================] - 3s 43us/step - loss: 0.0044 - acc: 0.9986 - val_loss: 0.0766 - val_acc: 0.9820\n",
      "Epoch 36/40\n",
      "60000/60000 [==============================] - 3s 42us/step - loss: 0.0048 - acc: 0.9983 - val_loss: 0.0777 - val_acc: 0.9844\n",
      "Epoch 37/40\n",
      "60000/60000 [==============================] - 3s 44us/step - loss: 0.0054 - acc: 0.9983 - val_loss: 0.0757 - val_acc: 0.9839\n",
      "Epoch 38/40\n",
      "60000/60000 [==============================] - 3s 42us/step - loss: 0.0045 - acc: 0.9985 - val_loss: 0.0786 - val_acc: 0.9834\n",
      "Epoch 39/40\n",
      "60000/60000 [==============================] - 3s 44us/step - loss: 0.0049 - acc: 0.9983 - val_loss: 0.0789 - val_acc: 0.9839\n",
      "Epoch 40/40\n",
      "60000/60000 [==============================] - 3s 44us/step - loss: 0.0048 - acc: 0.9983 - val_loss: 0.0821 - val_acc: 0.9830\n"
     ]
    },
    {
     "data": {
      "text/plain": [
       "<keras.callbacks.History at 0x7f20703bcbe0>"
      ]
     },
     "execution_count": 6,
     "metadata": {},
     "output_type": "execute_result"
    }
   ],
   "source": [
    "# train the model\n",
    "model.fit(x_train, y_train,\n",
    "          batch_size=batch_size,\n",
    "          epochs=epochs,\n",
    "          verbose=1,\n",
    "          validation_data=(x_test, y_test))"
   ]
  },
  {
   "cell_type": "code",
   "execution_count": 7,
   "metadata": {},
   "outputs": [],
   "source": [
    "# next, compare with an equivalent network\n",
    "# with2x bigger Dense layers and ReLU"
   ]
  }
 ],
 "metadata": {
  "kernelspec": {
   "display_name": "qinhanmin-test",
   "language": "python",
   "name": "qinhanmin-test"
  },
  "language_info": {
   "codemirror_mode": {
    "name": "ipython",
    "version": 3
   },
   "file_extension": ".py",
   "mimetype": "text/x-python",
   "name": "python",
   "nbconvert_exporter": "python",
   "pygments_lexer": "ipython3",
   "version": "3.7.3"
  }
 },
 "nbformat": 4,
 "nbformat_minor": 2
}
