{
 "cells": [
  {
   "cell_type": "raw",
   "metadata": {},
   "source": [
    "Example script to generate text from Nietzsche's writings.\n",
    "\n",
    "At least 20 epochs are required before the generated text\n",
    "starts sounding coherent.\n",
    "\n",
    "It is recommended to run this script on GPU, as recurrent\n",
    "networks are quite computationally intensive.\n",
    "\n",
    "If you try this script on new data, make sure your corpus\n",
    "has at least ~100k characters. ~1M is better."
   ]
  },
  {
   "cell_type": "code",
   "execution_count": 1,
   "metadata": {},
   "outputs": [
    {
     "name": "stderr",
     "output_type": "stream",
     "text": [
      "/home/sunxin/miniconda3/envs/qinhanmin-test/lib/python3.7/site-packages/tensorflow/python/framework/dtypes.py:526: FutureWarning: Passing (type, 1) or '1type' as a synonym of type is deprecated; in a future version of numpy, it will be understood as (type, (1,)) / '(1,)type'.\n",
      "  _np_qint8 = np.dtype([(\"qint8\", np.int8, 1)])\n",
      "/home/sunxin/miniconda3/envs/qinhanmin-test/lib/python3.7/site-packages/tensorflow/python/framework/dtypes.py:527: FutureWarning: Passing (type, 1) or '1type' as a synonym of type is deprecated; in a future version of numpy, it will be understood as (type, (1,)) / '(1,)type'.\n",
      "  _np_quint8 = np.dtype([(\"quint8\", np.uint8, 1)])\n",
      "/home/sunxin/miniconda3/envs/qinhanmin-test/lib/python3.7/site-packages/tensorflow/python/framework/dtypes.py:528: FutureWarning: Passing (type, 1) or '1type' as a synonym of type is deprecated; in a future version of numpy, it will be understood as (type, (1,)) / '(1,)type'.\n",
      "  _np_qint16 = np.dtype([(\"qint16\", np.int16, 1)])\n",
      "/home/sunxin/miniconda3/envs/qinhanmin-test/lib/python3.7/site-packages/tensorflow/python/framework/dtypes.py:529: FutureWarning: Passing (type, 1) or '1type' as a synonym of type is deprecated; in a future version of numpy, it will be understood as (type, (1,)) / '(1,)type'.\n",
      "  _np_quint16 = np.dtype([(\"quint16\", np.uint16, 1)])\n",
      "/home/sunxin/miniconda3/envs/qinhanmin-test/lib/python3.7/site-packages/tensorflow/python/framework/dtypes.py:530: FutureWarning: Passing (type, 1) or '1type' as a synonym of type is deprecated; in a future version of numpy, it will be understood as (type, (1,)) / '(1,)type'.\n",
      "  _np_qint32 = np.dtype([(\"qint32\", np.int32, 1)])\n",
      "/home/sunxin/miniconda3/envs/qinhanmin-test/lib/python3.7/site-packages/tensorflow/python/framework/dtypes.py:535: FutureWarning: Passing (type, 1) or '1type' as a synonym of type is deprecated; in a future version of numpy, it will be understood as (type, (1,)) / '(1,)type'.\n",
      "  np_resource = np.dtype([(\"resource\", np.ubyte, 1)])\n"
     ]
    },
    {
     "name": "stdout",
     "output_type": "stream",
     "text": [
      "1.13.2\n",
      "2.2.4\n"
     ]
    },
    {
     "name": "stderr",
     "output_type": "stream",
     "text": [
      "Using TensorFlow backend.\n"
     ]
    }
   ],
   "source": [
    "import os\n",
    "os.environ[\"CUDA_VISIBLE_DEVICES\"] = \"3\"\n",
    "import tensorflow as tf\n",
    "print(tf.__version__)\n",
    "import keras\n",
    "print(keras.__version__)"
   ]
  },
  {
   "cell_type": "code",
   "execution_count": 2,
   "metadata": {},
   "outputs": [],
   "source": [
    "import sys\n",
    "import numpy as np\n",
    "from keras import layers\n",
    "from keras import models\n",
    "from keras import optimizers\n",
    "from keras.callbacks import LambdaCallback"
   ]
  },
  {
   "cell_type": "code",
   "execution_count": 3,
   "metadata": {},
   "outputs": [
    {
     "name": "stdout",
     "output_type": "stream",
     "text": [
      "corpus length: 600893\n"
     ]
    }
   ],
   "source": [
    "# https://s3.amazonaws.com/text-datasets/nietzsche.txt\n",
    "with open(\"data/nietzsche.txt\", encoding='utf-8') as f:\n",
    "    text = f.read().lower()\n",
    "print('corpus length:', len(text))"
   ]
  },
  {
   "cell_type": "code",
   "execution_count": 4,
   "metadata": {},
   "outputs": [
    {
     "name": "stdout",
     "output_type": "stream",
     "text": [
      "total chars: 57\n"
     ]
    }
   ],
   "source": [
    "chars = sorted(list(set(text)))\n",
    "print('total chars:', len(chars))\n",
    "char_indices = dict((c, i) for i, c in enumerate(chars))\n",
    "indices_char = dict((i, c) for i, c in enumerate(chars))"
   ]
  },
  {
   "cell_type": "code",
   "execution_count": 5,
   "metadata": {},
   "outputs": [
    {
     "name": "stdout",
     "output_type": "stream",
     "text": [
      "nb sequences: 200285\n",
      "Vectorization...\n"
     ]
    }
   ],
   "source": [
    "# cut the text in semi-redundant sequences of maxlen characters\n",
    "maxlen = 40\n",
    "step = 3\n",
    "sentences = []\n",
    "next_chars = []\n",
    "for i in range(0, len(text) - maxlen, step):\n",
    "    sentences.append(text[i: i + maxlen])\n",
    "    next_chars.append(text[i + maxlen])\n",
    "print('nb sequences:', len(sentences))\n",
    "\n",
    "print('Vectorization...')\n",
    "x = np.zeros((len(sentences), maxlen, len(chars)), dtype=np.bool)\n",
    "y = np.zeros((len(sentences), len(chars)), dtype=np.bool)\n",
    "for i, sentence in enumerate(sentences):\n",
    "    for t, char in enumerate(sentence):\n",
    "        x[i, t, char_indices[char]] = 1\n",
    "    y[i, char_indices[next_chars[i]]] = 1"
   ]
  },
  {
   "cell_type": "code",
   "execution_count": 6,
   "metadata": {},
   "outputs": [
    {
     "name": "stdout",
     "output_type": "stream",
     "text": [
      "Build model...\n",
      "WARNING:tensorflow:From /home/sunxin/miniconda3/envs/qinhanmin-test/lib/python3.7/site-packages/tensorflow/python/framework/op_def_library.py:263: colocate_with (from tensorflow.python.framework.ops) is deprecated and will be removed in a future version.\n",
      "Instructions for updating:\n",
      "Colocations handled automatically by placer.\n"
     ]
    }
   ],
   "source": [
    "# build the model: a single LSTM\n",
    "print('Build model...')\n",
    "model = models.Sequential()\n",
    "model.add(layers.LSTM(128, input_shape=(maxlen, len(chars))))\n",
    "model.add(layers.Dense(len(chars), activation='softmax'))\n",
    "\n",
    "optimizer = optimizers.RMSprop(lr=0.01)\n",
    "model.compile(loss='categorical_crossentropy', optimizer=optimizer)"
   ]
  },
  {
   "cell_type": "code",
   "execution_count": 7,
   "metadata": {},
   "outputs": [],
   "source": [
    "def sample(preds, temperature=1.0):\n",
    "    # helper function to sample an index from a probability array\n",
    "    preds = np.asarray(preds).astype('float64')\n",
    "    preds = np.log(preds) / temperature\n",
    "    exp_preds = np.exp(preds)\n",
    "    preds = exp_preds / np.sum(exp_preds)\n",
    "    probas = np.random.multinomial(1, preds, 1)\n",
    "    return np.argmax(probas)"
   ]
  },
  {
   "cell_type": "code",
   "execution_count": 8,
   "metadata": {},
   "outputs": [],
   "source": [
    "def on_epoch_end(epoch, _):\n",
    "    if epoch % 5 != 0:\n",
    "        return\n",
    "    # Function invoked at end of each epoch. Prints generated text.\n",
    "    print()\n",
    "    print('----- Generating text after Epoch: %d' % epoch)\n",
    "\n",
    "    start_index = np.random.randint(0, len(text) - maxlen - 1)\n",
    "    for diversity in [0.2, 0.5, 1.0, 1.2]:\n",
    "        print('----- diversity:', diversity)\n",
    "\n",
    "        generated = ''\n",
    "        sentence = text[start_index: start_index + maxlen]\n",
    "        generated += sentence\n",
    "        print('----- Generating with seed: \"' + sentence + '\"')\n",
    "        sys.stdout.write(generated)\n",
    "\n",
    "        for i in range(400):\n",
    "            x_pred = np.zeros((1, maxlen, len(chars)))\n",
    "            for t, char in enumerate(sentence):\n",
    "                x_pred[0, t, char_indices[char]] = 1.\n",
    "\n",
    "            preds = model.predict(x_pred, verbose=0)[0]\n",
    "            next_index = sample(preds, diversity)\n",
    "            next_char = indices_char[next_index]\n",
    "\n",
    "            sentence = sentence[1:] + next_char\n",
    "\n",
    "            sys.stdout.write(next_char)\n",
    "            sys.stdout.flush()\n",
    "        print()\n",
    "\n",
    "print_callback = LambdaCallback(on_epoch_end=on_epoch_end)"
   ]
  },
  {
   "cell_type": "code",
   "execution_count": 9,
   "metadata": {
    "scrolled": false
   },
   "outputs": [
    {
     "name": "stdout",
     "output_type": "stream",
     "text": [
      "WARNING:tensorflow:From /home/sunxin/miniconda3/envs/qinhanmin-test/lib/python3.7/site-packages/tensorflow/python/ops/math_ops.py:3066: to_int32 (from tensorflow.python.ops.math_ops) is deprecated and will be removed in a future version.\n",
      "Instructions for updating:\n",
      "Use tf.cast instead.\n",
      "Epoch 1/21\n",
      "200285/200285 [==============================] - 76s 380us/step - loss: 2.0008\n",
      "\n",
      "----- Generating text after Epoch: 0\n",
      "----- diversity: 0.2\n",
      "----- Generating with seed: \"y: \"thus shall it be!\"\n",
      "they determine fi\"\n",
      "y: \"thus shall it be!\"\n",
      "they determine final to the stand and still to the stand the contration of the still the say the soul as the stand and most the stands and the seem and the stand and the comparity and the so the some contrating to the some compurate the most the soul the subject the still as the stand and the still and possity and possity and the soul the contrable and the soul of the soul the stand and the stand and morality and \n",
      "----- diversity: 0.5\n",
      "----- Generating with seed: \"y: \"thus shall it be!\"\n",
      "they determine fi\"\n",
      "y: \"thus shall it be!\"\n",
      "they determine final one such its artive contreally and siffers and again as the so have the morality in an experience and unon the belief ever the belisition to as power, the promentance the experience in the still of revedians, the form to the such is dees and lift recedness and the stend in the power and to so the soul believe the world the sack, in the same more deserative one decise of persent loven of man in\n",
      "----- diversity: 1.0\n",
      "----- Generating with seed: \"y: \"thus shall it be!\"\n",
      "they determine fi\"\n",
      "y: \"thus shall it be!\"\n",
      "they determine fith understoness\" of clopt divolage, and herotoever by gente \n",
      "expires in stable dissert of does to us \"stand--thus the once with\n",
      "such askinsangly give species th\n",
      "sestekm everythaning a\n",
      "wause would\n",
      "pthe verse tard the stange for modill conspirits, 3 destres not one contrab--intaticnance though ever-terress \"mosted; things he the isse artive to the right as to menson over who shere for tratsive or gu\n",
      "----- diversity: 1.2\n",
      "----- Generating with seed: \"y: \"thus shall it be!\"\n",
      "they determine fi\"\n",
      "y: \"thus shall it be!\"\n",
      "they determine fin\n",
      "as\n",
      "and faurnly with the dathh, the greets infals\n",
      "of cansosic felus groams--the copsincess\n",
      "lict chraquales stout, pransing clurd, crutause fyr. now thinkes as name the knoes revirew posses ano haws, edogehen \"only. in sfivtement of ascorder, and lime, which\n",
      "alknournusentr are, ach op ant\n",
      "hiss; hay herd, chiscus of eis of\"\"\"\n",
      "low for\n",
      "datic cansits. othing the relualenting, ode\" ouvir,,\" sent hy det\n",
      "Epoch 2/21\n",
      "200285/200285 [==============================] - 72s 360us/step - loss: 1.6430\n",
      "Epoch 3/21\n",
      "200285/200285 [==============================] - 72s 361us/step - loss: 1.5522\n",
      "Epoch 4/21\n",
      "200285/200285 [==============================] - 72s 360us/step - loss: 1.5047\n",
      "Epoch 5/21\n",
      "200285/200285 [==============================] - 75s 376us/step - loss: 1.4742\n",
      "Epoch 6/21\n",
      "200285/200285 [==============================] - 72s 362us/step - loss: 1.4501\n",
      "\n",
      "----- Generating text after Epoch: 5\n",
      "----- diversity: 0.2\n",
      "----- Generating with seed: \"all men to follow. this evinces\n",
      "much sim\"\n",
      "all men to follow. this evinces\n",
      "much simply the consequently and the "
     ]
    },
    {
     "name": "stderr",
     "output_type": "stream",
     "text": [
      "/home/sunxin/miniconda3/envs/qinhanmin-test/lib/python3.7/site-packages/ipykernel_launcher.py:4: RuntimeWarning: divide by zero encountered in log\n",
      "  after removing the cwd from sys.path.\n"
     ]
    },
    {
     "name": "stdout",
     "output_type": "stream",
     "text": [
      "stronges of the conceals and the extent of the strange of the conceales and so the endiration of the strength of the sense of the strange of the consequently the false of the problem of the sense of the soul of the spirit and consequently precisely and the superfiction of the artictive the endire to the word to the soul of the more and sentiment and the more and and th\n",
      "----- diversity: 0.5\n",
      "----- Generating with seed: \"all men to follow. this evinces\n",
      "much sim\"\n",
      "all men to follow. this evinces\n",
      "much simple of the most standing in the strength and are of the artictates and recognize of the modern instrament of the artion in the mode of the specially and of the seise of the more refrist that the corprease of him. he is a superficiate of his religious too harping and consciously that is a seem the orudation of the conceal? when was a self-self-compences of the most suffering and consequently and as\n",
      "----- diversity: 1.0\n",
      "----- Generating with seed: \"all men to follow. this evinces\n",
      "much sim\"\n",
      "all men to follow. this evinces\n",
      "much simple more friendliused? women that the moral humaning\n",
      "condar fear love to the abyes to one timpated let somethooan,\n",
      "be exmiscourourian anothicatest volguiration: and grett\n",
      "so lighh,\n",
      "does, how more amargrabul being moral ruch to long exist secret exampe torre or track\n",
      "in surners a father barks of sense. and for everything interpretees into moral and best of\n",
      "an orgal inclilancely aldavists true it if\n",
      "----- diversity: 1.2\n",
      "----- Generating with seed: \"all men to follow. this evinces\n",
      "much sim\"\n",
      "all men to follow. this evinces\n",
      "much sime\n",
      "gowdden aopen that for love, we be sawe ouc courses of the treasn, which mean \"wrue decides coming woruh organist? in\n",
      "p was unspireicifeity indectapt endirieance in rithestathess of the haicpriessulity of\n",
      "racess at we courousne cannot blast his competrion, are, and mottine or other\n",
      "vultly which immorabitious\n",
      "the\n",
      "bots--moral kreesmel\n",
      "hitherlanted for at theer, with the veryss he would\n",
      "ears\n",
      "has ba\n",
      "Epoch 7/21\n",
      "200285/200285 [==============================] - 72s 361us/step - loss: 1.4328\n",
      "Epoch 8/21\n",
      "200285/200285 [==============================] - 72s 359us/step - loss: 1.4173\n",
      "Epoch 9/21\n",
      "200285/200285 [==============================] - 72s 359us/step - loss: 1.4041\n",
      "Epoch 10/21\n",
      "200285/200285 [==============================] - 74s 369us/step - loss: 1.3955\n",
      "Epoch 11/21\n",
      "200285/200285 [==============================] - 73s 362us/step - loss: 1.3861\n",
      "\n",
      "----- Generating text after Epoch: 10\n",
      "----- diversity: 0.2\n",
      "----- Generating with seed: \" interpreted it, \"the\n",
      "eternally feminine\"\n",
      " interpreted it, \"the\n",
      "eternally feminine of mankind and and the sense of the sense of the sense of the sense of the sense of the standard to the profoundly the sense of the sense of the sense of the world and profoundly to the profoundly the world and present the spiritual to the contradiction of the world to the sense of the standard and the sense of the sense of the sense of the sense of the sense of the and the sense of the standard \n",
      "----- diversity: 0.5\n",
      "----- Generating with seed: \" interpreted it, \"the\n",
      "eternally feminine\"\n",
      " interpreted it, \"the\n",
      "eternally feminines in the soul and and are conficities in the individual and to which the world as the conduct of experience the sense and deceptions and desire and of the \"good\" and instinct the masters and of the fact that is the \"modern of the consider the dangerous as a recogning.\n",
      "\n",
      "\n",
      "199. the bodable to the church in interpret\n",
      "and distance, and even the ordiness that is determiness loves and pride in the strong\n",
      "----- diversity: 1.0\n",
      "----- Generating with seed: \" interpreted it, \"the\n",
      "eternally feminine\"\n",
      " interpreted it, \"the\n",
      "eternally feminines given vice-innevertantsersiened to orca, and of him will callsly \"havely, let dread upear to\n",
      "make the upary possible by first complidable\n",
      "profound at al\n",
      "doing will world by his radaces\n",
      "believentual histories that their flaglike; let alave to the\n",
      "old acty and of that an\n",
      "actesty, this meliations; the persons, orgor comprehensious man, saiding society: for sote as there is, as means and morality, t\n",
      "----- diversity: 1.2\n",
      "----- Generating with seed: \" interpreted it, \"the\n",
      "eternally feminine\"\n",
      " interpreted it, \"the\n",
      "eternally feminine oneselvge, ordeabsk the pro;make, the modern-amy that people which, fhome of intelligious infullinugafic more\n",
      "much otnew\n",
      "among (of correspondence\n",
      "of our rereaning-nems of figure of heightawourly, is necorieapr\n",
      "account of mecy is say the onils! a yes of reviced and dismanthy in direct to  rassimpre-rows the possibil\n",
      "of anmon his pendened i concerning is striltion siftin ivsast what these venting t\n",
      "Epoch 12/21\n",
      "200285/200285 [==============================] - 72s 360us/step - loss: 1.3780\n",
      "Epoch 13/21\n",
      "200285/200285 [==============================] - 72s 358us/step - loss: 1.3712\n",
      "Epoch 14/21\n",
      "200285/200285 [==============================] - 72s 359us/step - loss: 1.3660\n",
      "Epoch 15/21\n",
      "200285/200285 [==============================] - 73s 364us/step - loss: 1.3592\n",
      "Epoch 16/21\n",
      "200285/200285 [==============================] - 75s 375us/step - loss: 1.3543\n",
      "\n",
      "----- Generating text after Epoch: 15\n",
      "----- diversity: 0.2\n",
      "----- Generating with seed: \"e\n",
      "fundamental condition--of life, to spe\"\n",
      "e\n",
      "fundamental condition--of life, to speak of the sense of the consequence of the master of the sense of the sense of the probably of the same as the senses of the exceptions of the senses of all the new of the souls of the constitute of the most probably of the same and enduring of the sense of the great as a subject, and the sense of the assialist of the more and and the souls of all the same the profound and all the proper of the mos\n",
      "----- diversity: 0.5\n",
      "----- Generating with seed: \"e\n",
      "fundamental condition--of life, to spe\"\n",
      "e\n",
      "fundamental condition--of life, to speak to the same circumaticates the consequences of all the and perceive of painful for the belief for understood of the consequence of all and and from the decided and exalt the are not be believe and regard to conscience and and of allere\" as all the devicions of the man in the progress, the age, and in the inner our readiness of his called the more free\n",
      "of the\n",
      "stally for the world himself--and wo\n",
      "----- diversity: 1.0\n",
      "----- Generating with seed: \"e\n",
      "fundamental condition--of life, to spe\"\n",
      "e\n",
      "fundamental condition--of life, to speak pleasure truth and\n",
      "higher, as to hever maintent.\n",
      "extercemans if contranglaw--it is all peritychicglers is to which partich. in the preatiem of     tooled. back evil\"? and he alling of the\n",
      "oncy, science! they way with everything, the laoblong out\n",
      "of mankind this real, errors\n",
      "in whomences, and so? in readinefsed souls as all things amortic very best man. \"less it are prevail influences pure\n",
      "condi\n",
      "----- diversity: 1.2\n",
      "----- Generating with seed: \"e\n",
      "fundamental condition--of life, to spe\"\n",
      "e\n",
      "fundamental condition--of life, to speaks\n",
      "upon mislest depresses,\n",
      "consequent forneling thing.= as the advance desire their order is\n",
      "liud that the view\n",
      "macrriafed wrond mannerdstent! herein, and the figmitys and maincraution\n",
      "himevey eir atherias:\n",
      "they wither cy prinominy unverary of the usdeline\n",
      "miritudly as hefiting the world,t?\n",
      "     wlive , be evil juett at\n",
      "one epirina. than as a thang\n",
      "wory and individual, but entirpat of explasative\n",
      "Epoch 17/21\n",
      "200285/200285 [==============================] - 72s 360us/step - loss: 1.3510\n",
      "Epoch 18/21\n",
      "200285/200285 [==============================] - 74s 368us/step - loss: 1.3464\n",
      "Epoch 19/21\n",
      "200285/200285 [==============================] - 73s 363us/step - loss: 1.3419\n",
      "Epoch 20/21\n",
      "200285/200285 [==============================] - 74s 370us/step - loss: 1.3389\n",
      "Epoch 21/21\n",
      "200285/200285 [==============================] - 74s 369us/step - loss: 1.3359\n",
      "\n",
      "----- Generating text after Epoch: 20\n",
      "----- diversity: 0.2\n",
      "----- Generating with seed: \"sharp, and tender--yes, it is well\n",
      "prote\"\n",
      "sharp, and tender--yes, it is well\n"
     ]
    },
    {
     "name": "stdout",
     "output_type": "stream",
     "text": [
      "proterress the subjection of the consequence of the provented to the problem of the consequence of the desires of the sense of his which, and the sense of the act of the prose of the prose of the subject, and the consequence of the consequence is the provention of the provented to the provention of the provented to the daise of the sense of the provented to the prose of the more the sense of the proven\n",
      "----- diversity: 0.5\n",
      "----- Generating with seed: \"sharp, and tender--yes, it is well\n",
      "prote\"\n",
      "sharp, and tender--yes, it is well\n",
      "proterred to the truths: in so far to despect is the highest are to which, and be indicate into the propagations, in the progress of the highest thinking we fool for his fellow as a case the possesse of superiority of the world the highest as a contemptation, the means of individually, a cause of the consciousness of secret which has always at all belongs the great of our otter of the former of the res\n",
      "----- diversity: 1.0\n",
      "----- Generating with seed: \"sharp, and tender--yes, it is well\n",
      "prote\"\n",
      "sharp, and tender--yes, it is well\n",
      "proteils, which is conscience with a stare than to do questions.\n",
      "\n",
      "\n",
      "4ie we stronger, but indome at suppling in mainten, in everyly fast of man: but right\"--that whrece thisds, and it are false amours and sentiments. sham\n",
      "their last notwern? pretentamental and the conceale of\n",
      "inderstaftin, everything belief not moos, he will denlage to\n",
      "alway in the\n",
      "contemptable from aloous sentiment of classes dikence fo\n",
      "----- diversity: 1.2\n",
      "----- Generating with seed: \"sharp, and tender--yes, it is well\n",
      "prote\"\n",
      "sharp, and tender--yes, it is well\n",
      "protentation,--what all: reterdingwotouslavabous\n",
      "althought\n",
      "envyside--anything.--seffection of\n",
      "moral life fluence going finally pleasure and universal oftil europeondy.;.\n",
      "\n",
      ",ähere be a bads\n",
      "stemprecchge ourselve known though, deceive inferretion with alun\"wogement is inxsking upon to\n",
      "his \"doudd--. the headinurs, they partines, breaking, being, and here were always being and philosophy parting, alsaquinan\n"
     ]
    },
    {
     "data": {
      "text/plain": [
       "<keras.callbacks.History at 0x7fc6081268d0>"
      ]
     },
     "execution_count": 9,
     "metadata": {},
     "output_type": "execute_result"
    }
   ],
   "source": [
    "model.fit(x, y,\n",
    "          batch_size=128,\n",
    "          epochs=21,\n",
    "          callbacks=[print_callback])"
   ]
  }
 ],
 "metadata": {
  "kernelspec": {
   "display_name": "qinhanmin-test",
   "language": "python",
   "name": "qinhanmin-test"
  },
  "language_info": {
   "codemirror_mode": {
    "name": "ipython",
    "version": 3
   },
   "file_extension": ".py",
   "mimetype": "text/x-python",
   "name": "python",
   "nbconvert_exporter": "python",
   "pygments_lexer": "ipython3",
   "version": "3.7.3"
  }
 },
 "nbformat": 4,
 "nbformat_minor": 2
}
